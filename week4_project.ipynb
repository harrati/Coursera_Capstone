{
 "cells": [
  {
   "source": [
    "# Coursera Capstone Project\n",
    "\n",
    "# Introduction\n",
    "\n",
    "For my *Capstone project* I will help an investor who is about to start a business of importing and selling **BIO: vegetables** and  **fruits**.\n",
    "\n",
    "\n",
    "# Description and background\n",
    "\n",
    "In the past few years my client have tried to start his dream business but he failed many times. So this time he consulted me for help and as a data scientist I decided to start by describing my approach.\n",
    "- **NB**: our client wants to open his Bio store  in **Paris city** but no matter which neighbourhood.\n",
    "\n",
    "1. **First**: we will search a list of all paris neighbourhoods.\n",
    "2. **Second**: we will sort all neighbourhoods by the number of restaurants and fast foods\n",
    "3. Then the **Third** step: is to inverse sort neighbourhoods by the number of store and super markets\n",
    "4. The last step is to reverse order our data by the population\n",
    "\n",
    "# Data of our project\n",
    "\n",
    "## Paris neighbourhoods data\n",
    "To derive our solution, We leverage JSON data available at  the french government website: [https://www.data.gouv.fr/fr/datasets/r/e88c6fda-1d09-42a0-a069-606d3259114e](https://www.data.gouv.fr/fr/datasets/r/e88c6fda-1d09-42a0-a069-606d3259114e)\n",
    "\n",
    "The JSON file has data about all the neighbourhoods in **France**; we will limit it to Paris using department code = 75.\n",
    "columns we will be using are:\n",
    "1.  _postal_code_: Postal codes for France\n",
    "2.  _nom_comm_: Name of Neighborhoods in France\n",
    "3.  _nom_dept_: Name of the boroughs, equivalent to towns in France\n",
    "4.  _geo_point_2d_: Tuple containing the latitude and longitude of the Neighborhoods.\n",
    "\n",
    "## Foursquare API\n",
    "In this next step we will be using **Foursquare** data api to search for the number of restaurant in every **Paris** area.\n",
    "And to have better idea on our concurrents we will look for the number of **stores** or **super markets** in all those areas\n",
    "\n",
    "# Final Step\n",
    "After all those researches we will provide to our client a list of all neighbourhoods with more restaurants and less concurrency and of course the results will be sorted and we let our customer choose were he will be openning his business\n"
   ],
   "cell_type": "markdown",
   "metadata": {}
  },
  {
   "source": [
    "# Let's first import all modules and packages we need"
   ],
   "cell_type": "markdown",
   "metadata": {}
  },
  {
   "cell_type": "code",
   "execution_count": 201,
   "metadata": {
    "collapsed": true
   },
   "outputs": [],
   "source": [
    "import pandas as pd\n",
    "import urllib.request as req\n",
    "import requests\n",
    "from geopy.geocoders import Nominatim\n",
    "import folium\n",
    "import json"
   ]
  },
  {
   "source": [
    "## Retreiving data\n",
    "In this step we will visit France locations information from the government website `https://data.gouv.fr` and we store the result in a file called **data.json**"
   ],
   "cell_type": "markdown",
   "metadata": {
    "collapsed": false,
    "pycharm": {
     "name": "#%%\n"
    }
   }
  },
  {
   "cell_type": "code",
   "execution_count": 202,
   "outputs": [
    {
     "output_type": "execute_result",
     "data": {
      "text/plain": [
       "('data.json', <http.client.HTTPMessage at 0x7ffa839b3070>)"
      ]
     },
     "metadata": {},
     "execution_count": 202
    }
   ],
   "source": [
    "url = 'https://www.data.gouv.fr/fr/datasets/r/e88c6fda-1d09-42a0-a069-606d3259114e'\n",
    "req.urlretrieve(url, 'data.json')"
   ],
   "metadata": {
    "collapsed": false,
    "pycharm": {
     "name": "#%%\n"
    }
   }
  },
  {
   "source": [
    "## Data cleaning\n",
    "Now we will build our pandas Dataframe by dropping all additionnal columns and keeping only those we are interested in"
   ],
   "cell_type": "markdown",
   "metadata": {}
  },
  {
   "cell_type": "code",
   "execution_count": 203,
   "metadata": {},
   "outputs": [
    {
     "output_type": "stream",
     "name": "stdout",
     "text": [
      "(1300, 10)\n"
     ]
    },
    {
     "output_type": "execute_result",
     "data": {
      "text/plain": [
       "   code_comm        nom_dept            statut     nom_region  code_reg  \\\n",
       "0        645         ESSONNE    Commune simple  ILE-DE-FRANCE        11   \n",
       "1        133  SEINE-ET-MARNE    Commune simple  ILE-DE-FRANCE        11   \n",
       "2        378         ESSONNE    Commune simple  ILE-DE-FRANCE        11   \n",
       "3        243  SEINE-ET-MARNE  Chef-lieu canton  ILE-DE-FRANCE        11   \n",
       "4        414  SEINE-ET-MARNE    Commune simple  ILE-DE-FRANCE        11   \n",
       "\n",
       "   code_dept                             geo_point_2d postal_code  \\\n",
       "0         91  [48.750443119964764, 2.251712972144151]       91370   \n",
       "1         77   [48.41256065214989, 3.052940505560729]       77126   \n",
       "2         91    [48.52726809075556, 2.19718165044305]       91730   \n",
       "3         77  [48.87307018579678, 2.7097808131278462]       77400   \n",
       "4         77  [48.62891464105825, 3.2582355268439223]       77160   \n",
       "\n",
       "               nom_comm  population  \n",
       "0  VERRIERES-LE-BUISSON        15.5  \n",
       "1  COURCELLES-EN-BASSEE         0.2  \n",
       "2             MAUCHAMPS         0.3  \n",
       "3       LAGNY-SUR-MARNE        20.2  \n",
       "4        SAINT-HILLIERS         0.4  "
      ],
      "text/html": "<div>\n<style scoped>\n    .dataframe tbody tr th:only-of-type {\n        vertical-align: middle;\n    }\n\n    .dataframe tbody tr th {\n        vertical-align: top;\n    }\n\n    .dataframe thead th {\n        text-align: right;\n    }\n</style>\n<table border=\"1\" class=\"dataframe\">\n  <thead>\n    <tr style=\"text-align: right;\">\n      <th></th>\n      <th>code_comm</th>\n      <th>nom_dept</th>\n      <th>statut</th>\n      <th>nom_region</th>\n      <th>code_reg</th>\n      <th>code_dept</th>\n      <th>geo_point_2d</th>\n      <th>postal_code</th>\n      <th>nom_comm</th>\n      <th>population</th>\n    </tr>\n  </thead>\n  <tbody>\n    <tr>\n      <th>0</th>\n      <td>645</td>\n      <td>ESSONNE</td>\n      <td>Commune simple</td>\n      <td>ILE-DE-FRANCE</td>\n      <td>11</td>\n      <td>91</td>\n      <td>[48.750443119964764, 2.251712972144151]</td>\n      <td>91370</td>\n      <td>VERRIERES-LE-BUISSON</td>\n      <td>15.5</td>\n    </tr>\n    <tr>\n      <th>1</th>\n      <td>133</td>\n      <td>SEINE-ET-MARNE</td>\n      <td>Commune simple</td>\n      <td>ILE-DE-FRANCE</td>\n      <td>11</td>\n      <td>77</td>\n      <td>[48.41256065214989, 3.052940505560729]</td>\n      <td>77126</td>\n      <td>COURCELLES-EN-BASSEE</td>\n      <td>0.2</td>\n    </tr>\n    <tr>\n      <th>2</th>\n      <td>378</td>\n      <td>ESSONNE</td>\n      <td>Commune simple</td>\n      <td>ILE-DE-FRANCE</td>\n      <td>11</td>\n      <td>91</td>\n      <td>[48.52726809075556, 2.19718165044305]</td>\n      <td>91730</td>\n      <td>MAUCHAMPS</td>\n      <td>0.3</td>\n    </tr>\n    <tr>\n      <th>3</th>\n      <td>243</td>\n      <td>SEINE-ET-MARNE</td>\n      <td>Chef-lieu canton</td>\n      <td>ILE-DE-FRANCE</td>\n      <td>11</td>\n      <td>77</td>\n      <td>[48.87307018579678, 2.7097808131278462]</td>\n      <td>77400</td>\n      <td>LAGNY-SUR-MARNE</td>\n      <td>20.2</td>\n    </tr>\n    <tr>\n      <th>4</th>\n      <td>414</td>\n      <td>SEINE-ET-MARNE</td>\n      <td>Commune simple</td>\n      <td>ILE-DE-FRANCE</td>\n      <td>11</td>\n      <td>77</td>\n      <td>[48.62891464105825, 3.2582355268439223]</td>\n      <td>77160</td>\n      <td>SAINT-HILLIERS</td>\n      <td>0.4</td>\n    </tr>\n  </tbody>\n</table>\n</div>"
     },
     "metadata": {},
     "execution_count": 203
    }
   ],
   "source": [
    "france_df = pd.read_json(\"data.json\")\n",
    "france_df=pd.json_normalize(france_df.fields)\n",
    "france_df.drop([\"z_moyen\",\"insee_com\", \"id_geofla\", \"code_cant\", \"superficie\", \"code_arr\", \"geo_shape.type\",\"geo_shape.coordinates\"], inplace=True, axis=1)\n",
    "france_df[[\"code_comm\",\"code_reg\",\"population\",\"code_dept\"]] = france_df[[\"code_comm\",\"code_reg\",\"population\",\"code_dept\"]].apply(pd.to_numeric)\n",
    "print(france_df.shape)\n",
    "france_df.head()"
   ]
  },
  {
   "source": [
    "Then we keep only **Paris** neighboorhoods by keeping only rows with `code_dept = 75`"
   ],
   "cell_type": "markdown",
   "metadata": {}
  },
  {
   "cell_type": "code",
   "execution_count": 204,
   "metadata": {},
   "outputs": [
    {
     "output_type": "stream",
     "name": "stdout",
     "text": [
      "(20, 11)\n"
     ]
    },
    {
     "output_type": "execute_result",
     "data": {
      "text/plain": [
       "   index  code_comm nom_dept            statut     nom_region  code_reg  \\\n",
       "0     96        109    PARIS  Chef-lieu canton  ILE-DE-FRANCE        11   \n",
       "1    102        102    PARIS  Chef-lieu canton  ILE-DE-FRANCE        11   \n",
       "2    103        111    PARIS  Chef-lieu canton  ILE-DE-FRANCE        11   \n",
       "3    113        108    PARIS  Chef-lieu canton  ILE-DE-FRANCE        11   \n",
       "4    126        113    PARIS  Chef-lieu canton  ILE-DE-FRANCE        11   \n",
       "\n",
       "   code_dept                            geo_point_2d postal_code  \\\n",
       "0         75  [48.87689616237872, 2.337460241388529]       75009   \n",
       "1         75  [48.86790337886785, 2.344107166658533]       75002   \n",
       "2         75  [48.85941549762748, 2.378741060237548]       75011   \n",
       "3         75  [48.87252726662346, 2.312582560420059]       75008   \n",
       "4         75  [48.82871768452136, 2.362468228516128]       75013   \n",
       "\n",
       "                   nom_comm  population  \n",
       "0   PARIS-9E-ARRONDISSEMENT        60.3  \n",
       "1   PARIS-2E-ARRONDISSEMENT        22.4  \n",
       "2  PARIS-11E-ARRONDISSEMENT       152.7  \n",
       "3   PARIS-8E-ARRONDISSEMENT        40.3  \n",
       "4  PARIS-13E-ARRONDISSEMENT       182.0  "
      ],
      "text/html": "<div>\n<style scoped>\n    .dataframe tbody tr th:only-of-type {\n        vertical-align: middle;\n    }\n\n    .dataframe tbody tr th {\n        vertical-align: top;\n    }\n\n    .dataframe thead th {\n        text-align: right;\n    }\n</style>\n<table border=\"1\" class=\"dataframe\">\n  <thead>\n    <tr style=\"text-align: right;\">\n      <th></th>\n      <th>index</th>\n      <th>code_comm</th>\n      <th>nom_dept</th>\n      <th>statut</th>\n      <th>nom_region</th>\n      <th>code_reg</th>\n      <th>code_dept</th>\n      <th>geo_point_2d</th>\n      <th>postal_code</th>\n      <th>nom_comm</th>\n      <th>population</th>\n    </tr>\n  </thead>\n  <tbody>\n    <tr>\n      <th>0</th>\n      <td>96</td>\n      <td>109</td>\n      <td>PARIS</td>\n      <td>Chef-lieu canton</td>\n      <td>ILE-DE-FRANCE</td>\n      <td>11</td>\n      <td>75</td>\n      <td>[48.87689616237872, 2.337460241388529]</td>\n      <td>75009</td>\n      <td>PARIS-9E-ARRONDISSEMENT</td>\n      <td>60.3</td>\n    </tr>\n    <tr>\n      <th>1</th>\n      <td>102</td>\n      <td>102</td>\n      <td>PARIS</td>\n      <td>Chef-lieu canton</td>\n      <td>ILE-DE-FRANCE</td>\n      <td>11</td>\n      <td>75</td>\n      <td>[48.86790337886785, 2.344107166658533]</td>\n      <td>75002</td>\n      <td>PARIS-2E-ARRONDISSEMENT</td>\n      <td>22.4</td>\n    </tr>\n    <tr>\n      <th>2</th>\n      <td>103</td>\n      <td>111</td>\n      <td>PARIS</td>\n      <td>Chef-lieu canton</td>\n      <td>ILE-DE-FRANCE</td>\n      <td>11</td>\n      <td>75</td>\n      <td>[48.85941549762748, 2.378741060237548]</td>\n      <td>75011</td>\n      <td>PARIS-11E-ARRONDISSEMENT</td>\n      <td>152.7</td>\n    </tr>\n    <tr>\n      <th>3</th>\n      <td>113</td>\n      <td>108</td>\n      <td>PARIS</td>\n      <td>Chef-lieu canton</td>\n      <td>ILE-DE-FRANCE</td>\n      <td>11</td>\n      <td>75</td>\n      <td>[48.87252726662346, 2.312582560420059]</td>\n      <td>75008</td>\n      <td>PARIS-8E-ARRONDISSEMENT</td>\n      <td>40.3</td>\n    </tr>\n    <tr>\n      <th>4</th>\n      <td>126</td>\n      <td>113</td>\n      <td>PARIS</td>\n      <td>Chef-lieu canton</td>\n      <td>ILE-DE-FRANCE</td>\n      <td>11</td>\n      <td>75</td>\n      <td>[48.82871768452136, 2.362468228516128]</td>\n      <td>75013</td>\n      <td>PARIS-13E-ARRONDISSEMENT</td>\n      <td>182.0</td>\n    </tr>\n  </tbody>\n</table>\n</div>"
     },
     "metadata": {},
     "execution_count": 204
    }
   ],
   "source": [
    "paris_filtered_df = france_df.loc[france_df['code_dept'] == 75].reset_index()\n",
    "print(paris_filtered_df.shape)\n",
    "paris_filtered_df.head()"
   ]
  },
  {
   "source": [
    "Now let's split `geo_point_2d` into `Latitude` and `Longitude` and keep only fields we are interested in"
   ],
   "cell_type": "markdown",
   "metadata": {}
  },
  {
   "cell_type": "code",
   "execution_count": 205,
   "metadata": {},
   "outputs": [
    {
     "output_type": "execute_result",
     "data": {
      "text/plain": [
       "    Latitude  Longitude   City              Neighborhood postal_code  \\\n",
       "0  48.876896   2.337460  PARIS   PARIS-9E-ARRONDISSEMENT       75009   \n",
       "1  48.867903   2.344107  PARIS   PARIS-2E-ARRONDISSEMENT       75002   \n",
       "2  48.859415   2.378741  PARIS  PARIS-11E-ARRONDISSEMENT       75011   \n",
       "3  48.872527   2.312583  PARIS   PARIS-8E-ARRONDISSEMENT       75008   \n",
       "4  48.828718   2.362468  PARIS  PARIS-13E-ARRONDISSEMENT       75013   \n",
       "\n",
       "   population  \n",
       "0        60.3  \n",
       "1        22.4  \n",
       "2       152.7  \n",
       "3        40.3  \n",
       "4       182.0  "
      ],
      "text/html": "<div>\n<style scoped>\n    .dataframe tbody tr th:only-of-type {\n        vertical-align: middle;\n    }\n\n    .dataframe tbody tr th {\n        vertical-align: top;\n    }\n\n    .dataframe thead th {\n        text-align: right;\n    }\n</style>\n<table border=\"1\" class=\"dataframe\">\n  <thead>\n    <tr style=\"text-align: right;\">\n      <th></th>\n      <th>Latitude</th>\n      <th>Longitude</th>\n      <th>City</th>\n      <th>Neighborhood</th>\n      <th>postal_code</th>\n      <th>population</th>\n    </tr>\n  </thead>\n  <tbody>\n    <tr>\n      <th>0</th>\n      <td>48.876896</td>\n      <td>2.337460</td>\n      <td>PARIS</td>\n      <td>PARIS-9E-ARRONDISSEMENT</td>\n      <td>75009</td>\n      <td>60.3</td>\n    </tr>\n    <tr>\n      <th>1</th>\n      <td>48.867903</td>\n      <td>2.344107</td>\n      <td>PARIS</td>\n      <td>PARIS-2E-ARRONDISSEMENT</td>\n      <td>75002</td>\n      <td>22.4</td>\n    </tr>\n    <tr>\n      <th>2</th>\n      <td>48.859415</td>\n      <td>2.378741</td>\n      <td>PARIS</td>\n      <td>PARIS-11E-ARRONDISSEMENT</td>\n      <td>75011</td>\n      <td>152.7</td>\n    </tr>\n    <tr>\n      <th>3</th>\n      <td>48.872527</td>\n      <td>2.312583</td>\n      <td>PARIS</td>\n      <td>PARIS-8E-ARRONDISSEMENT</td>\n      <td>75008</td>\n      <td>40.3</td>\n    </tr>\n    <tr>\n      <th>4</th>\n      <td>48.828718</td>\n      <td>2.362468</td>\n      <td>PARIS</td>\n      <td>PARIS-13E-ARRONDISSEMENT</td>\n      <td>75013</td>\n      <td>182.0</td>\n    </tr>\n  </tbody>\n</table>\n</div>"
     },
     "metadata": {},
     "execution_count": 205
    }
   ],
   "source": [
    "paris_df = pd.DataFrame(list(paris_filtered_df[\"geo_point_2d\"]), columns=['Latitude','Longitude'])\n",
    "paris_df[[\"City\", \"Neighborhood\", \"postal_code\", \"population\"]] = paris_filtered_df[[\"nom_dept\", \"nom_comm\", \"postal_code\",\"population\"]]\n",
    "paris_df.head()\n"
   ]
  },
  {
   "source": [
    "Let's extract Paris coordinates using **Nominatim**"
   ],
   "cell_type": "markdown",
   "metadata": {}
  },
  {
   "cell_type": "code",
   "execution_count": 206,
   "metadata": {},
   "outputs": [
    {
     "output_type": "stream",
     "name": "stdout",
     "text": [
      "The geograpical coordinate of Paris City are 48.8566969, 2.3514616.\n"
     ]
    }
   ],
   "source": [
    "address = 'Paris'\n",
    "\n",
    "geolocator = Nominatim(user_agent=\"paris_explorer\")\n",
    "location = geolocator.geocode(address)\n",
    "latitude = location.latitude\n",
    "longitude = location.longitude\n",
    "print('The geograpical coordinate of Paris City are {}, {}.'.format(latitude, longitude))"
   ]
  },
  {
   "source": [
    "Using folium let's show paris boroughs on th Map"
   ],
   "cell_type": "markdown",
   "metadata": {}
  },
  {
   "cell_type": "code",
   "execution_count": 207,
   "metadata": {},
   "outputs": [
    {
     "output_type": "execute_result",
     "data": {
      "text/plain": [
       "<folium.folium.Map at 0x7ffa8076bdc0>"
      ],
      "text/html": "<div style=\"width:100%;\"><div style=\"position:relative;width:100%;height:0;padding-bottom:60%;\"><span style=\"color:#565656\">Make this Notebook Trusted to load map: File -> Trust Notebook</span><iframe src=\"about:blank\" style=\"position:absolute;width:100%;height:100%;left:0;top:0;border:none !important;\" data-html=%3C%21DOCTYPE%20html%3E%0A%3Chead%3E%20%20%20%20%0A%20%20%20%20%3Cmeta%20http-equiv%3D%22content-type%22%20content%3D%22text/html%3B%20charset%3DUTF-8%22%20/%3E%0A%20%20%20%20%0A%20%20%20%20%20%20%20%20%3Cscript%3E%0A%20%20%20%20%20%20%20%20%20%20%20%20L_NO_TOUCH%20%3D%20false%3B%0A%20%20%20%20%20%20%20%20%20%20%20%20L_DISABLE_3D%20%3D%20false%3B%0A%20%20%20%20%20%20%20%20%3C/script%3E%0A%20%20%20%20%0A%20%20%20%20%3Cstyle%3Ehtml%2C%20body%20%7Bwidth%3A%20100%25%3Bheight%3A%20100%25%3Bmargin%3A%200%3Bpadding%3A%200%3B%7D%3C/style%3E%0A%20%20%20%20%3Cstyle%3E%23map%20%7Bposition%3Aabsolute%3Btop%3A0%3Bbottom%3A0%3Bright%3A0%3Bleft%3A0%3B%7D%3C/style%3E%0A%20%20%20%20%3Cscript%20src%3D%22https%3A//cdn.jsdelivr.net/npm/leaflet%401.6.0/dist/leaflet.js%22%3E%3C/script%3E%0A%20%20%20%20%3Cscript%20src%3D%22https%3A//code.jquery.com/jquery-1.12.4.min.js%22%3E%3C/script%3E%0A%20%20%20%20%3Cscript%20src%3D%22https%3A//maxcdn.bootstrapcdn.com/bootstrap/3.2.0/js/bootstrap.min.js%22%3E%3C/script%3E%0A%20%20%20%20%3Cscript%20src%3D%22https%3A//cdnjs.cloudflare.com/ajax/libs/Leaflet.awesome-markers/2.0.2/leaflet.awesome-markers.js%22%3E%3C/script%3E%0A%20%20%20%20%3Clink%20rel%3D%22stylesheet%22%20href%3D%22https%3A//cdn.jsdelivr.net/npm/leaflet%401.6.0/dist/leaflet.css%22/%3E%0A%20%20%20%20%3Clink%20rel%3D%22stylesheet%22%20href%3D%22https%3A//maxcdn.bootstrapcdn.com/bootstrap/3.2.0/css/bootstrap.min.css%22/%3E%0A%20%20%20%20%3Clink%20rel%3D%22stylesheet%22%20href%3D%22https%3A//maxcdn.bootstrapcdn.com/bootstrap/3.2.0/css/bootstrap-theme.min.css%22/%3E%0A%20%20%20%20%3Clink%20rel%3D%22stylesheet%22%20href%3D%22https%3A//maxcdn.bootstrapcdn.com/font-awesome/4.6.3/css/font-awesome.min.css%22/%3E%0A%20%20%20%20%3Clink%20rel%3D%22stylesheet%22%20href%3D%22https%3A//cdnjs.cloudflare.com/ajax/libs/Leaflet.awesome-markers/2.0.2/leaflet.awesome-markers.css%22/%3E%0A%20%20%20%20%3Clink%20rel%3D%22stylesheet%22%20href%3D%22https%3A//cdn.jsdelivr.net/gh/python-visualization/folium/folium/templates/leaflet.awesome.rotate.min.css%22/%3E%0A%20%20%20%20%0A%20%20%20%20%20%20%20%20%20%20%20%20%3Cmeta%20name%3D%22viewport%22%20content%3D%22width%3Ddevice-width%2C%0A%20%20%20%20%20%20%20%20%20%20%20%20%20%20%20%20initial-scale%3D1.0%2C%20maximum-scale%3D1.0%2C%20user-scalable%3Dno%22%20/%3E%0A%20%20%20%20%20%20%20%20%20%20%20%20%3Cstyle%3E%0A%20%20%20%20%20%20%20%20%20%20%20%20%20%20%20%20%23map_0eb30db52a8746758da7662e389c387e%20%7B%0A%20%20%20%20%20%20%20%20%20%20%20%20%20%20%20%20%20%20%20%20position%3A%20relative%3B%0A%20%20%20%20%20%20%20%20%20%20%20%20%20%20%20%20%20%20%20%20width%3A%20100.0%25%3B%0A%20%20%20%20%20%20%20%20%20%20%20%20%20%20%20%20%20%20%20%20height%3A%20100.0%25%3B%0A%20%20%20%20%20%20%20%20%20%20%20%20%20%20%20%20%20%20%20%20left%3A%200.0%25%3B%0A%20%20%20%20%20%20%20%20%20%20%20%20%20%20%20%20%20%20%20%20top%3A%200.0%25%3B%0A%20%20%20%20%20%20%20%20%20%20%20%20%20%20%20%20%7D%0A%20%20%20%20%20%20%20%20%20%20%20%20%3C/style%3E%0A%20%20%20%20%20%20%20%20%0A%3C/head%3E%0A%3Cbody%3E%20%20%20%20%0A%20%20%20%20%0A%20%20%20%20%20%20%20%20%20%20%20%20%3Cdiv%20class%3D%22folium-map%22%20id%3D%22map_0eb30db52a8746758da7662e389c387e%22%20%3E%3C/div%3E%0A%20%20%20%20%20%20%20%20%0A%3C/body%3E%0A%3Cscript%3E%20%20%20%20%0A%20%20%20%20%0A%20%20%20%20%20%20%20%20%20%20%20%20var%20map_0eb30db52a8746758da7662e389c387e%20%3D%20L.map%28%0A%20%20%20%20%20%20%20%20%20%20%20%20%20%20%20%20%22map_0eb30db52a8746758da7662e389c387e%22%2C%0A%20%20%20%20%20%20%20%20%20%20%20%20%20%20%20%20%7B%0A%20%20%20%20%20%20%20%20%20%20%20%20%20%20%20%20%20%20%20%20center%3A%20%5B48.8566969%2C%202.3514616%5D%2C%0A%20%20%20%20%20%20%20%20%20%20%20%20%20%20%20%20%20%20%20%20crs%3A%20L.CRS.EPSG3857%2C%0A%20%20%20%20%20%20%20%20%20%20%20%20%20%20%20%20%20%20%20%20zoom%3A%2010%2C%0A%20%20%20%20%20%20%20%20%20%20%20%20%20%20%20%20%20%20%20%20zoomControl%3A%20true%2C%0A%20%20%20%20%20%20%20%20%20%20%20%20%20%20%20%20%20%20%20%20preferCanvas%3A%20false%2C%0A%20%20%20%20%20%20%20%20%20%20%20%20%20%20%20%20%7D%0A%20%20%20%20%20%20%20%20%20%20%20%20%29%3B%0A%0A%20%20%20%20%20%20%20%20%20%20%20%20%0A%0A%20%20%20%20%20%20%20%20%0A%20%20%20%20%0A%20%20%20%20%20%20%20%20%20%20%20%20var%20tile_layer_b7446770622d41c9b652b8fc1b3219df%20%3D%20L.tileLayer%28%0A%20%20%20%20%20%20%20%20%20%20%20%20%20%20%20%20%22https%3A//%7Bs%7D.tile.openstreetmap.org/%7Bz%7D/%7Bx%7D/%7By%7D.png%22%2C%0A%20%20%20%20%20%20%20%20%20%20%20%20%20%20%20%20%7B%22attribution%22%3A%20%22Data%20by%20%5Cu0026copy%3B%20%5Cu003ca%20href%3D%5C%22http%3A//openstreetmap.org%5C%22%5Cu003eOpenStreetMap%5Cu003c/a%5Cu003e%2C%20under%20%5Cu003ca%20href%3D%5C%22http%3A//www.openstreetmap.org/copyright%5C%22%5Cu003eODbL%5Cu003c/a%5Cu003e.%22%2C%20%22detectRetina%22%3A%20false%2C%20%22maxNativeZoom%22%3A%2018%2C%20%22maxZoom%22%3A%2018%2C%20%22minZoom%22%3A%200%2C%20%22noWrap%22%3A%20false%2C%20%22opacity%22%3A%201%2C%20%22subdomains%22%3A%20%22abc%22%2C%20%22tms%22%3A%20false%7D%0A%20%20%20%20%20%20%20%20%20%20%20%20%29.addTo%28map_0eb30db52a8746758da7662e389c387e%29%3B%0A%20%20%20%20%20%20%20%20%0A%20%20%20%20%0A%20%20%20%20%20%20%20%20%20%20%20%20var%20circle_marker_82011b79da0d4cfd81c49e123a4038f7%20%3D%20L.circleMarker%28%0A%20%20%20%20%20%20%20%20%20%20%20%20%20%20%20%20%5B48.87689616237872%2C%202.337460241388529%5D%2C%0A%20%20%20%20%20%20%20%20%20%20%20%20%20%20%20%20%7B%22bubblingMouseEvents%22%3A%20true%2C%20%22color%22%3A%20%22blue%22%2C%20%22dashArray%22%3A%20null%2C%20%22dashOffset%22%3A%20null%2C%20%22fill%22%3A%20true%2C%20%22fillColor%22%3A%20%22%233186cc%22%2C%20%22fillOpacity%22%3A%200.7%2C%20%22fillRule%22%3A%20%22evenodd%22%2C%20%22lineCap%22%3A%20%22round%22%2C%20%22lineJoin%22%3A%20%22round%22%2C%20%22opacity%22%3A%201.0%2C%20%22radius%22%3A%205%2C%20%22stroke%22%3A%20true%2C%20%22weight%22%3A%203%7D%0A%20%20%20%20%20%20%20%20%20%20%20%20%29.addTo%28map_0eb30db52a8746758da7662e389c387e%29%3B%0A%20%20%20%20%20%20%20%20%0A%20%20%20%20%0A%20%20%20%20%20%20%20%20var%20popup_daecf63c1aba42ac8795473661e08d8a%20%3D%20L.popup%28%7B%22maxWidth%22%3A%20%22100%25%22%7D%29%3B%0A%0A%20%20%20%20%20%20%20%20%0A%20%20%20%20%20%20%20%20%20%20%20%20var%20html_f80027b1d5504233a6c64f79d07f990f%20%3D%20%24%28%60%3Cdiv%20id%3D%22html_f80027b1d5504233a6c64f79d07f990f%22%20style%3D%22width%3A%20100.0%25%3B%20height%3A%20100.0%25%3B%22%3EPARIS-9E-ARRONDISSEMENT%2C%20PARIS%3C/div%3E%60%29%5B0%5D%3B%0A%20%20%20%20%20%20%20%20%20%20%20%20popup_daecf63c1aba42ac8795473661e08d8a.setContent%28html_f80027b1d5504233a6c64f79d07f990f%29%3B%0A%20%20%20%20%20%20%20%20%0A%0A%20%20%20%20%20%20%20%20circle_marker_82011b79da0d4cfd81c49e123a4038f7.bindPopup%28popup_daecf63c1aba42ac8795473661e08d8a%29%0A%20%20%20%20%20%20%20%20%3B%0A%0A%20%20%20%20%20%20%20%20%0A%20%20%20%20%0A%20%20%20%20%0A%20%20%20%20%20%20%20%20%20%20%20%20var%20circle_marker_80798436222948c6b101c2544b5bd3c1%20%3D%20L.circleMarker%28%0A%20%20%20%20%20%20%20%20%20%20%20%20%20%20%20%20%5B48.86790337886785%2C%202.344107166658533%5D%2C%0A%20%20%20%20%20%20%20%20%20%20%20%20%20%20%20%20%7B%22bubblingMouseEvents%22%3A%20true%2C%20%22color%22%3A%20%22blue%22%2C%20%22dashArray%22%3A%20null%2C%20%22dashOffset%22%3A%20null%2C%20%22fill%22%3A%20true%2C%20%22fillColor%22%3A%20%22%233186cc%22%2C%20%22fillOpacity%22%3A%200.7%2C%20%22fillRule%22%3A%20%22evenodd%22%2C%20%22lineCap%22%3A%20%22round%22%2C%20%22lineJoin%22%3A%20%22round%22%2C%20%22opacity%22%3A%201.0%2C%20%22radius%22%3A%205%2C%20%22stroke%22%3A%20true%2C%20%22weight%22%3A%203%7D%0A%20%20%20%20%20%20%20%20%20%20%20%20%29.addTo%28map_0eb30db52a8746758da7662e389c387e%29%3B%0A%20%20%20%20%20%20%20%20%0A%20%20%20%20%0A%20%20%20%20%20%20%20%20var%20popup_7177cd29ae514448bbedf89c47cd4b22%20%3D%20L.popup%28%7B%22maxWidth%22%3A%20%22100%25%22%7D%29%3B%0A%0A%20%20%20%20%20%20%20%20%0A%20%20%20%20%20%20%20%20%20%20%20%20var%20html_1b7c6a23ec604da2ab6ad55c63a8ca70%20%3D%20%24%28%60%3Cdiv%20id%3D%22html_1b7c6a23ec604da2ab6ad55c63a8ca70%22%20style%3D%22width%3A%20100.0%25%3B%20height%3A%20100.0%25%3B%22%3EPARIS-2E-ARRONDISSEMENT%2C%20PARIS%3C/div%3E%60%29%5B0%5D%3B%0A%20%20%20%20%20%20%20%20%20%20%20%20popup_7177cd29ae514448bbedf89c47cd4b22.setContent%28html_1b7c6a23ec604da2ab6ad55c63a8ca70%29%3B%0A%20%20%20%20%20%20%20%20%0A%0A%20%20%20%20%20%20%20%20circle_marker_80798436222948c6b101c2544b5bd3c1.bindPopup%28popup_7177cd29ae514448bbedf89c47cd4b22%29%0A%20%20%20%20%20%20%20%20%3B%0A%0A%20%20%20%20%20%20%20%20%0A%20%20%20%20%0A%20%20%20%20%0A%20%20%20%20%20%20%20%20%20%20%20%20var%20circle_marker_0a8f5d6969e3406d9895624a4cc93a3f%20%3D%20L.circleMarker%28%0A%20%20%20%20%20%20%20%20%20%20%20%20%20%20%20%20%5B48.85941549762748%2C%202.378741060237548%5D%2C%0A%20%20%20%20%20%20%20%20%20%20%20%20%20%20%20%20%7B%22bubblingMouseEvents%22%3A%20true%2C%20%22color%22%3A%20%22blue%22%2C%20%22dashArray%22%3A%20null%2C%20%22dashOffset%22%3A%20null%2C%20%22fill%22%3A%20true%2C%20%22fillColor%22%3A%20%22%233186cc%22%2C%20%22fillOpacity%22%3A%200.7%2C%20%22fillRule%22%3A%20%22evenodd%22%2C%20%22lineCap%22%3A%20%22round%22%2C%20%22lineJoin%22%3A%20%22round%22%2C%20%22opacity%22%3A%201.0%2C%20%22radius%22%3A%205%2C%20%22stroke%22%3A%20true%2C%20%22weight%22%3A%203%7D%0A%20%20%20%20%20%20%20%20%20%20%20%20%29.addTo%28map_0eb30db52a8746758da7662e389c387e%29%3B%0A%20%20%20%20%20%20%20%20%0A%20%20%20%20%0A%20%20%20%20%20%20%20%20var%20popup_8376a6ee5f3d4ace86231798f9a5e567%20%3D%20L.popup%28%7B%22maxWidth%22%3A%20%22100%25%22%7D%29%3B%0A%0A%20%20%20%20%20%20%20%20%0A%20%20%20%20%20%20%20%20%20%20%20%20var%20html_8ffbd9f0119442389d1509923723c01f%20%3D%20%24%28%60%3Cdiv%20id%3D%22html_8ffbd9f0119442389d1509923723c01f%22%20style%3D%22width%3A%20100.0%25%3B%20height%3A%20100.0%25%3B%22%3EPARIS-11E-ARRONDISSEMENT%2C%20PARIS%3C/div%3E%60%29%5B0%5D%3B%0A%20%20%20%20%20%20%20%20%20%20%20%20popup_8376a6ee5f3d4ace86231798f9a5e567.setContent%28html_8ffbd9f0119442389d1509923723c01f%29%3B%0A%20%20%20%20%20%20%20%20%0A%0A%20%20%20%20%20%20%20%20circle_marker_0a8f5d6969e3406d9895624a4cc93a3f.bindPopup%28popup_8376a6ee5f3d4ace86231798f9a5e567%29%0A%20%20%20%20%20%20%20%20%3B%0A%0A%20%20%20%20%20%20%20%20%0A%20%20%20%20%0A%20%20%20%20%0A%20%20%20%20%20%20%20%20%20%20%20%20var%20circle_marker_3df8e33812534bfab125c9f50fc254b7%20%3D%20L.circleMarker%28%0A%20%20%20%20%20%20%20%20%20%20%20%20%20%20%20%20%5B48.87252726662346%2C%202.312582560420059%5D%2C%0A%20%20%20%20%20%20%20%20%20%20%20%20%20%20%20%20%7B%22bubblingMouseEvents%22%3A%20true%2C%20%22color%22%3A%20%22blue%22%2C%20%22dashArray%22%3A%20null%2C%20%22dashOffset%22%3A%20null%2C%20%22fill%22%3A%20true%2C%20%22fillColor%22%3A%20%22%233186cc%22%2C%20%22fillOpacity%22%3A%200.7%2C%20%22fillRule%22%3A%20%22evenodd%22%2C%20%22lineCap%22%3A%20%22round%22%2C%20%22lineJoin%22%3A%20%22round%22%2C%20%22opacity%22%3A%201.0%2C%20%22radius%22%3A%205%2C%20%22stroke%22%3A%20true%2C%20%22weight%22%3A%203%7D%0A%20%20%20%20%20%20%20%20%20%20%20%20%29.addTo%28map_0eb30db52a8746758da7662e389c387e%29%3B%0A%20%20%20%20%20%20%20%20%0A%20%20%20%20%0A%20%20%20%20%20%20%20%20var%20popup_3650cbe3e50a4664b9975dd373d11a8a%20%3D%20L.popup%28%7B%22maxWidth%22%3A%20%22100%25%22%7D%29%3B%0A%0A%20%20%20%20%20%20%20%20%0A%20%20%20%20%20%20%20%20%20%20%20%20var%20html_e2de0cb2708f4b7fa4d3af7cfebf4f32%20%3D%20%24%28%60%3Cdiv%20id%3D%22html_e2de0cb2708f4b7fa4d3af7cfebf4f32%22%20style%3D%22width%3A%20100.0%25%3B%20height%3A%20100.0%25%3B%22%3EPARIS-8E-ARRONDISSEMENT%2C%20PARIS%3C/div%3E%60%29%5B0%5D%3B%0A%20%20%20%20%20%20%20%20%20%20%20%20popup_3650cbe3e50a4664b9975dd373d11a8a.setContent%28html_e2de0cb2708f4b7fa4d3af7cfebf4f32%29%3B%0A%20%20%20%20%20%20%20%20%0A%0A%20%20%20%20%20%20%20%20circle_marker_3df8e33812534bfab125c9f50fc254b7.bindPopup%28popup_3650cbe3e50a4664b9975dd373d11a8a%29%0A%20%20%20%20%20%20%20%20%3B%0A%0A%20%20%20%20%20%20%20%20%0A%20%20%20%20%0A%20%20%20%20%0A%20%20%20%20%20%20%20%20%20%20%20%20var%20circle_marker_32e7b38b93b9454b89d6263e5d2c015f%20%3D%20L.circleMarker%28%0A%20%20%20%20%20%20%20%20%20%20%20%20%20%20%20%20%5B48.82871768452136%2C%202.362468228516128%5D%2C%0A%20%20%20%20%20%20%20%20%20%20%20%20%20%20%20%20%7B%22bubblingMouseEvents%22%3A%20true%2C%20%22color%22%3A%20%22blue%22%2C%20%22dashArray%22%3A%20null%2C%20%22dashOffset%22%3A%20null%2C%20%22fill%22%3A%20true%2C%20%22fillColor%22%3A%20%22%233186cc%22%2C%20%22fillOpacity%22%3A%200.7%2C%20%22fillRule%22%3A%20%22evenodd%22%2C%20%22lineCap%22%3A%20%22round%22%2C%20%22lineJoin%22%3A%20%22round%22%2C%20%22opacity%22%3A%201.0%2C%20%22radius%22%3A%205%2C%20%22stroke%22%3A%20true%2C%20%22weight%22%3A%203%7D%0A%20%20%20%20%20%20%20%20%20%20%20%20%29.addTo%28map_0eb30db52a8746758da7662e389c387e%29%3B%0A%20%20%20%20%20%20%20%20%0A%20%20%20%20%0A%20%20%20%20%20%20%20%20var%20popup_aa15c115d8bc4c54a135951e992053de%20%3D%20L.popup%28%7B%22maxWidth%22%3A%20%22100%25%22%7D%29%3B%0A%0A%20%20%20%20%20%20%20%20%0A%20%20%20%20%20%20%20%20%20%20%20%20var%20html_c4b5c0734d8f4f18a20c421ac10ebef6%20%3D%20%24%28%60%3Cdiv%20id%3D%22html_c4b5c0734d8f4f18a20c421ac10ebef6%22%20style%3D%22width%3A%20100.0%25%3B%20height%3A%20100.0%25%3B%22%3EPARIS-13E-ARRONDISSEMENT%2C%20PARIS%3C/div%3E%60%29%5B0%5D%3B%0A%20%20%20%20%20%20%20%20%20%20%20%20popup_aa15c115d8bc4c54a135951e992053de.setContent%28html_c4b5c0734d8f4f18a20c421ac10ebef6%29%3B%0A%20%20%20%20%20%20%20%20%0A%0A%20%20%20%20%20%20%20%20circle_marker_32e7b38b93b9454b89d6263e5d2c015f.bindPopup%28popup_aa15c115d8bc4c54a135951e992053de%29%0A%20%20%20%20%20%20%20%20%3B%0A%0A%20%20%20%20%20%20%20%20%0A%20%20%20%20%0A%20%20%20%20%0A%20%20%20%20%20%20%20%20%20%20%20%20var%20circle_marker_fa59c4307960473f9248f52df718dca8%20%3D%20L.circleMarker%28%0A%20%20%20%20%20%20%20%20%20%20%20%20%20%20%20%20%5B48.83515623066034%2C%202.419807034965275%5D%2C%0A%20%20%20%20%20%20%20%20%20%20%20%20%20%20%20%20%7B%22bubblingMouseEvents%22%3A%20true%2C%20%22color%22%3A%20%22blue%22%2C%20%22dashArray%22%3A%20null%2C%20%22dashOffset%22%3A%20null%2C%20%22fill%22%3A%20true%2C%20%22fillColor%22%3A%20%22%233186cc%22%2C%20%22fillOpacity%22%3A%200.7%2C%20%22fillRule%22%3A%20%22evenodd%22%2C%20%22lineCap%22%3A%20%22round%22%2C%20%22lineJoin%22%3A%20%22round%22%2C%20%22opacity%22%3A%201.0%2C%20%22radius%22%3A%205%2C%20%22stroke%22%3A%20true%2C%20%22weight%22%3A%203%7D%0A%20%20%20%20%20%20%20%20%20%20%20%20%29.addTo%28map_0eb30db52a8746758da7662e389c387e%29%3B%0A%20%20%20%20%20%20%20%20%0A%20%20%20%20%0A%20%20%20%20%20%20%20%20var%20popup_9c8b240056994a79a5de1e5705a23a6b%20%3D%20L.popup%28%7B%22maxWidth%22%3A%20%22100%25%22%7D%29%3B%0A%0A%20%20%20%20%20%20%20%20%0A%20%20%20%20%20%20%20%20%20%20%20%20var%20html_4ecb9ecb9e114409afb543d2157f739b%20%3D%20%24%28%60%3Cdiv%20id%3D%22html_4ecb9ecb9e114409afb543d2157f739b%22%20style%3D%22width%3A%20100.0%25%3B%20height%3A%20100.0%25%3B%22%3EPARIS-12E-ARRONDISSEMENT%2C%20PARIS%3C/div%3E%60%29%5B0%5D%3B%0A%20%20%20%20%20%20%20%20%20%20%20%20popup_9c8b240056994a79a5de1e5705a23a6b.setContent%28html_4ecb9ecb9e114409afb543d2157f739b%29%3B%0A%20%20%20%20%20%20%20%20%0A%0A%20%20%20%20%20%20%20%20circle_marker_fa59c4307960473f9248f52df718dca8.bindPopup%28popup_9c8b240056994a79a5de1e5705a23a6b%29%0A%20%20%20%20%20%20%20%20%3B%0A%0A%20%20%20%20%20%20%20%20%0A%20%20%20%20%0A%20%20%20%20%0A%20%20%20%20%20%20%20%20%20%20%20%20var%20circle_marker_3b919c5fefa04f379cc0ccbc88161fc8%20%3D%20L.circleMarker%28%0A%20%20%20%20%20%20%20%20%20%20%20%20%20%20%20%20%5B48.86305413181178%2C%202.359361058970589%5D%2C%0A%20%20%20%20%20%20%20%20%20%20%20%20%20%20%20%20%7B%22bubblingMouseEvents%22%3A%20true%2C%20%22color%22%3A%20%22blue%22%2C%20%22dashArray%22%3A%20null%2C%20%22dashOffset%22%3A%20null%2C%20%22fill%22%3A%20true%2C%20%22fillColor%22%3A%20%22%233186cc%22%2C%20%22fillOpacity%22%3A%200.7%2C%20%22fillRule%22%3A%20%22evenodd%22%2C%20%22lineCap%22%3A%20%22round%22%2C%20%22lineJoin%22%3A%20%22round%22%2C%20%22opacity%22%3A%201.0%2C%20%22radius%22%3A%205%2C%20%22stroke%22%3A%20true%2C%20%22weight%22%3A%203%7D%0A%20%20%20%20%20%20%20%20%20%20%20%20%29.addTo%28map_0eb30db52a8746758da7662e389c387e%29%3B%0A%20%20%20%20%20%20%20%20%0A%20%20%20%20%0A%20%20%20%20%20%20%20%20var%20popup_c1bf3212153b4679af1a922a84ef15e2%20%3D%20L.popup%28%7B%22maxWidth%22%3A%20%22100%25%22%7D%29%3B%0A%0A%20%20%20%20%20%20%20%20%0A%20%20%20%20%20%20%20%20%20%20%20%20var%20html_cd04631a77574373a3972446cdc11fdc%20%3D%20%24%28%60%3Cdiv%20id%3D%22html_cd04631a77574373a3972446cdc11fdc%22%20style%3D%22width%3A%20100.0%25%3B%20height%3A%20100.0%25%3B%22%3EPARIS-3E-ARRONDISSEMENT%2C%20PARIS%3C/div%3E%60%29%5B0%5D%3B%0A%20%20%20%20%20%20%20%20%20%20%20%20popup_c1bf3212153b4679af1a922a84ef15e2.setContent%28html_cd04631a77574373a3972446cdc11fdc%29%3B%0A%20%20%20%20%20%20%20%20%0A%0A%20%20%20%20%20%20%20%20circle_marker_3b919c5fefa04f379cc0ccbc88161fc8.bindPopup%28popup_c1bf3212153b4679af1a922a84ef15e2%29%0A%20%20%20%20%20%20%20%20%3B%0A%0A%20%20%20%20%20%20%20%20%0A%20%20%20%20%0A%20%20%20%20%0A%20%20%20%20%20%20%20%20%20%20%20%20var%20circle_marker_f55d8df212414d90b55c2bd232ec711c%20%3D%20L.circleMarker%28%0A%20%20%20%20%20%20%20%20%20%20%20%20%20%20%20%20%5B48.84896809191946%2C%202.332670898588416%5D%2C%0A%20%20%20%20%20%20%20%20%20%20%20%20%20%20%20%20%7B%22bubblingMouseEvents%22%3A%20true%2C%20%22color%22%3A%20%22blue%22%2C%20%22dashArray%22%3A%20null%2C%20%22dashOffset%22%3A%20null%2C%20%22fill%22%3A%20true%2C%20%22fillColor%22%3A%20%22%233186cc%22%2C%20%22fillOpacity%22%3A%200.7%2C%20%22fillRule%22%3A%20%22evenodd%22%2C%20%22lineCap%22%3A%20%22round%22%2C%20%22lineJoin%22%3A%20%22round%22%2C%20%22opacity%22%3A%201.0%2C%20%22radius%22%3A%205%2C%20%22stroke%22%3A%20true%2C%20%22weight%22%3A%203%7D%0A%20%20%20%20%20%20%20%20%20%20%20%20%29.addTo%28map_0eb30db52a8746758da7662e389c387e%29%3B%0A%20%20%20%20%20%20%20%20%0A%20%20%20%20%0A%20%20%20%20%20%20%20%20var%20popup_c70d49b0198244feb0360e747f8fe264%20%3D%20L.popup%28%7B%22maxWidth%22%3A%20%22100%25%22%7D%29%3B%0A%0A%20%20%20%20%20%20%20%20%0A%20%20%20%20%20%20%20%20%20%20%20%20var%20html_b286240d6bc04c31a5ddb3752c2df63a%20%3D%20%24%28%60%3Cdiv%20id%3D%22html_b286240d6bc04c31a5ddb3752c2df63a%22%20style%3D%22width%3A%20100.0%25%3B%20height%3A%20100.0%25%3B%22%3EPARIS-6E-ARRONDISSEMENT%2C%20PARIS%3C/div%3E%60%29%5B0%5D%3B%0A%20%20%20%20%20%20%20%20%20%20%20%20popup_c70d49b0198244feb0360e747f8fe264.setContent%28html_b286240d6bc04c31a5ddb3752c2df63a%29%3B%0A%20%20%20%20%20%20%20%20%0A%0A%20%20%20%20%20%20%20%20circle_marker_f55d8df212414d90b55c2bd232ec711c.bindPopup%28popup_c70d49b0198244feb0360e747f8fe264%29%0A%20%20%20%20%20%20%20%20%3B%0A%0A%20%20%20%20%20%20%20%20%0A%20%20%20%20%0A%20%20%20%20%0A%20%20%20%20%20%20%20%20%20%20%20%20var%20circle_marker_bae7abea4b1a48758269ffa1fe2a9207%20%3D%20L.circleMarker%28%0A%20%20%20%20%20%20%20%20%20%20%20%20%20%20%20%20%5B48.854228281954754%2C%202.357361938142205%5D%2C%0A%20%20%20%20%20%20%20%20%20%20%20%20%20%20%20%20%7B%22bubblingMouseEvents%22%3A%20true%2C%20%22color%22%3A%20%22blue%22%2C%20%22dashArray%22%3A%20null%2C%20%22dashOffset%22%3A%20null%2C%20%22fill%22%3A%20true%2C%20%22fillColor%22%3A%20%22%233186cc%22%2C%20%22fillOpacity%22%3A%200.7%2C%20%22fillRule%22%3A%20%22evenodd%22%2C%20%22lineCap%22%3A%20%22round%22%2C%20%22lineJoin%22%3A%20%22round%22%2C%20%22opacity%22%3A%201.0%2C%20%22radius%22%3A%205%2C%20%22stroke%22%3A%20true%2C%20%22weight%22%3A%203%7D%0A%20%20%20%20%20%20%20%20%20%20%20%20%29.addTo%28map_0eb30db52a8746758da7662e389c387e%29%3B%0A%20%20%20%20%20%20%20%20%0A%20%20%20%20%0A%20%20%20%20%20%20%20%20var%20popup_f007ac73e79c44ec8943bb5e8ba488af%20%3D%20L.popup%28%7B%22maxWidth%22%3A%20%22100%25%22%7D%29%3B%0A%0A%20%20%20%20%20%20%20%20%0A%20%20%20%20%20%20%20%20%20%20%20%20var%20html_cee3de12c2b845de839f1d84c67499b6%20%3D%20%24%28%60%3Cdiv%20id%3D%22html_cee3de12c2b845de839f1d84c67499b6%22%20style%3D%22width%3A%20100.0%25%3B%20height%3A%20100.0%25%3B%22%3EPARIS-4E-ARRONDISSEMENT%2C%20PARIS%3C/div%3E%60%29%5B0%5D%3B%0A%20%20%20%20%20%20%20%20%20%20%20%20popup_f007ac73e79c44ec8943bb5e8ba488af.setContent%28html_cee3de12c2b845de839f1d84c67499b6%29%3B%0A%20%20%20%20%20%20%20%20%0A%0A%20%20%20%20%20%20%20%20circle_marker_bae7abea4b1a48758269ffa1fe2a9207.bindPopup%28popup_f007ac73e79c44ec8943bb5e8ba488af%29%0A%20%20%20%20%20%20%20%20%3B%0A%0A%20%20%20%20%20%20%20%20%0A%20%20%20%20%0A%20%20%20%20%0A%20%20%20%20%20%20%20%20%20%20%20%20var%20circle_marker_ae532833c06c467c90242aa39c35c2d5%20%3D%20L.circleMarker%28%0A%20%20%20%20%20%20%20%20%20%20%20%20%20%20%20%20%5B48.87602855694339%2C%202.361112904561707%5D%2C%0A%20%20%20%20%20%20%20%20%20%20%20%20%20%20%20%20%7B%22bubblingMouseEvents%22%3A%20true%2C%20%22color%22%3A%20%22blue%22%2C%20%22dashArray%22%3A%20null%2C%20%22dashOffset%22%3A%20null%2C%20%22fill%22%3A%20true%2C%20%22fillColor%22%3A%20%22%233186cc%22%2C%20%22fillOpacity%22%3A%200.7%2C%20%22fillRule%22%3A%20%22evenodd%22%2C%20%22lineCap%22%3A%20%22round%22%2C%20%22lineJoin%22%3A%20%22round%22%2C%20%22opacity%22%3A%201.0%2C%20%22radius%22%3A%205%2C%20%22stroke%22%3A%20true%2C%20%22weight%22%3A%203%7D%0A%20%20%20%20%20%20%20%20%20%20%20%20%29.addTo%28map_0eb30db52a8746758da7662e389c387e%29%3B%0A%20%20%20%20%20%20%20%20%0A%20%20%20%20%0A%20%20%20%20%20%20%20%20var%20popup_b65406dcd0d741959d498d01524460ec%20%3D%20L.popup%28%7B%22maxWidth%22%3A%20%22100%25%22%7D%29%3B%0A%0A%20%20%20%20%20%20%20%20%0A%20%20%20%20%20%20%20%20%20%20%20%20var%20html_c348c84cc24d41018dd06af779128d1d%20%3D%20%24%28%60%3Cdiv%20id%3D%22html_c348c84cc24d41018dd06af779128d1d%22%20style%3D%22width%3A%20100.0%25%3B%20height%3A%20100.0%25%3B%22%3EPARIS-10E-ARRONDISSEMENT%2C%20PARIS%3C/div%3E%60%29%5B0%5D%3B%0A%20%20%20%20%20%20%20%20%20%20%20%20popup_b65406dcd0d741959d498d01524460ec.setContent%28html_c348c84cc24d41018dd06af779128d1d%29%3B%0A%20%20%20%20%20%20%20%20%0A%0A%20%20%20%20%20%20%20%20circle_marker_ae532833c06c467c90242aa39c35c2d5.bindPopup%28popup_b65406dcd0d741959d498d01524460ec%29%0A%20%20%20%20%20%20%20%20%3B%0A%0A%20%20%20%20%20%20%20%20%0A%20%20%20%20%0A%20%20%20%20%0A%20%20%20%20%20%20%20%20%20%20%20%20var%20circle_marker_a861e2e353b44af287e36b541c3c7a3c%20%3D%20L.circleMarker%28%0A%20%20%20%20%20%20%20%20%20%20%20%20%20%20%20%20%5B48.86039876035177%2C%202.262099559395783%5D%2C%0A%20%20%20%20%20%20%20%20%20%20%20%20%20%20%20%20%7B%22bubblingMouseEvents%22%3A%20true%2C%20%22color%22%3A%20%22blue%22%2C%20%22dashArray%22%3A%20null%2C%20%22dashOffset%22%3A%20null%2C%20%22fill%22%3A%20true%2C%20%22fillColor%22%3A%20%22%233186cc%22%2C%20%22fillOpacity%22%3A%200.7%2C%20%22fillRule%22%3A%20%22evenodd%22%2C%20%22lineCap%22%3A%20%22round%22%2C%20%22lineJoin%22%3A%20%22round%22%2C%20%22opacity%22%3A%201.0%2C%20%22radius%22%3A%205%2C%20%22stroke%22%3A%20true%2C%20%22weight%22%3A%203%7D%0A%20%20%20%20%20%20%20%20%20%20%20%20%29.addTo%28map_0eb30db52a8746758da7662e389c387e%29%3B%0A%20%20%20%20%20%20%20%20%0A%20%20%20%20%0A%20%20%20%20%20%20%20%20var%20popup_269d06bf33e14d508c957e9fa27b2a36%20%3D%20L.popup%28%7B%22maxWidth%22%3A%20%22100%25%22%7D%29%3B%0A%0A%20%20%20%20%20%20%20%20%0A%20%20%20%20%20%20%20%20%20%20%20%20var%20html_09afdd8dea0e496993aa87639299b1f1%20%3D%20%24%28%60%3Cdiv%20id%3D%22html_09afdd8dea0e496993aa87639299b1f1%22%20style%3D%22width%3A%20100.0%25%3B%20height%3A%20100.0%25%3B%22%3EPARIS-16E-ARRONDISSEMENT%2C%20PARIS%3C/div%3E%60%29%5B0%5D%3B%0A%20%20%20%20%20%20%20%20%20%20%20%20popup_269d06bf33e14d508c957e9fa27b2a36.setContent%28html_09afdd8dea0e496993aa87639299b1f1%29%3B%0A%20%20%20%20%20%20%20%20%0A%0A%20%20%20%20%20%20%20%20circle_marker_a861e2e353b44af287e36b541c3c7a3c.bindPopup%28popup_269d06bf33e14d508c957e9fa27b2a36%29%0A%20%20%20%20%20%20%20%20%3B%0A%0A%20%20%20%20%20%20%20%20%0A%20%20%20%20%0A%20%20%20%20%0A%20%20%20%20%20%20%20%20%20%20%20%20var%20circle_marker_2da874febc8a4c978d0e8c5a77974303%20%3D%20L.circleMarker%28%0A%20%20%20%20%20%20%20%20%20%20%20%20%20%20%20%20%5B48.844508659617546%2C%202.349859385560182%5D%2C%0A%20%20%20%20%20%20%20%20%20%20%20%20%20%20%20%20%7B%22bubblingMouseEvents%22%3A%20true%2C%20%22color%22%3A%20%22blue%22%2C%20%22dashArray%22%3A%20null%2C%20%22dashOffset%22%3A%20null%2C%20%22fill%22%3A%20true%2C%20%22fillColor%22%3A%20%22%233186cc%22%2C%20%22fillOpacity%22%3A%200.7%2C%20%22fillRule%22%3A%20%22evenodd%22%2C%20%22lineCap%22%3A%20%22round%22%2C%20%22lineJoin%22%3A%20%22round%22%2C%20%22opacity%22%3A%201.0%2C%20%22radius%22%3A%205%2C%20%22stroke%22%3A%20true%2C%20%22weight%22%3A%203%7D%0A%20%20%20%20%20%20%20%20%20%20%20%20%29.addTo%28map_0eb30db52a8746758da7662e389c387e%29%3B%0A%20%20%20%20%20%20%20%20%0A%20%20%20%20%0A%20%20%20%20%20%20%20%20var%20popup_3089cfd0964948e7a5b36d004481806f%20%3D%20L.popup%28%7B%22maxWidth%22%3A%20%22100%25%22%7D%29%3B%0A%0A%20%20%20%20%20%20%20%20%0A%20%20%20%20%20%20%20%20%20%20%20%20var%20html_1e3d9e351b0443fa9e7064f50378d2db%20%3D%20%24%28%60%3Cdiv%20id%3D%22html_1e3d9e351b0443fa9e7064f50378d2db%22%20style%3D%22width%3A%20100.0%25%3B%20height%3A%20100.0%25%3B%22%3EPARIS-5E-ARRONDISSEMENT%2C%20PARIS%3C/div%3E%60%29%5B0%5D%3B%0A%20%20%20%20%20%20%20%20%20%20%20%20popup_3089cfd0964948e7a5b36d004481806f.setContent%28html_1e3d9e351b0443fa9e7064f50378d2db%29%3B%0A%20%20%20%20%20%20%20%20%0A%0A%20%20%20%20%20%20%20%20circle_marker_2da874febc8a4c978d0e8c5a77974303.bindPopup%28popup_3089cfd0964948e7a5b36d004481806f%29%0A%20%20%20%20%20%20%20%20%3B%0A%0A%20%20%20%20%20%20%20%20%0A%20%20%20%20%0A%20%20%20%20%0A%20%20%20%20%20%20%20%20%20%20%20%20var%20circle_marker_4a96aafd8f6a4b339d54dff88607601a%20%3D%20L.circleMarker%28%0A%20%20%20%20%20%20%20%20%20%20%20%20%20%20%20%20%5B48.88686862295828%2C%202.384694327870042%5D%2C%0A%20%20%20%20%20%20%20%20%20%20%20%20%20%20%20%20%7B%22bubblingMouseEvents%22%3A%20true%2C%20%22color%22%3A%20%22blue%22%2C%20%22dashArray%22%3A%20null%2C%20%22dashOffset%22%3A%20null%2C%20%22fill%22%3A%20true%2C%20%22fillColor%22%3A%20%22%233186cc%22%2C%20%22fillOpacity%22%3A%200.7%2C%20%22fillRule%22%3A%20%22evenodd%22%2C%20%22lineCap%22%3A%20%22round%22%2C%20%22lineJoin%22%3A%20%22round%22%2C%20%22opacity%22%3A%201.0%2C%20%22radius%22%3A%205%2C%20%22stroke%22%3A%20true%2C%20%22weight%22%3A%203%7D%0A%20%20%20%20%20%20%20%20%20%20%20%20%29.addTo%28map_0eb30db52a8746758da7662e389c387e%29%3B%0A%20%20%20%20%20%20%20%20%0A%20%20%20%20%0A%20%20%20%20%20%20%20%20var%20popup_9c2f670cc8a44ccc896b2063b695860b%20%3D%20L.popup%28%7B%22maxWidth%22%3A%20%22100%25%22%7D%29%3B%0A%0A%20%20%20%20%20%20%20%20%0A%20%20%20%20%20%20%20%20%20%20%20%20var%20html_d1d9c40e781140c9b2ea93c5de19ea92%20%3D%20%24%28%60%3Cdiv%20id%3D%22html_d1d9c40e781140c9b2ea93c5de19ea92%22%20style%3D%22width%3A%20100.0%25%3B%20height%3A%20100.0%25%3B%22%3EPARIS-19E-ARRONDISSEMENT%2C%20PARIS%3C/div%3E%60%29%5B0%5D%3B%0A%20%20%20%20%20%20%20%20%20%20%20%20popup_9c2f670cc8a44ccc896b2063b695860b.setContent%28html_d1d9c40e781140c9b2ea93c5de19ea92%29%3B%0A%20%20%20%20%20%20%20%20%0A%0A%20%20%20%20%20%20%20%20circle_marker_4a96aafd8f6a4b339d54dff88607601a.bindPopup%28popup_9c2f670cc8a44ccc896b2063b695860b%29%0A%20%20%20%20%20%20%20%20%3B%0A%0A%20%20%20%20%20%20%20%20%0A%20%20%20%20%0A%20%20%20%20%0A%20%20%20%20%20%20%20%20%20%20%20%20var%20circle_marker_e7fbbcfa3f454548ae9340d0e727b544%20%3D%20L.circleMarker%28%0A%20%20%20%20%20%20%20%20%20%20%20%20%20%20%20%20%5B48.86318677744551%2C%202.400819826729021%5D%2C%0A%20%20%20%20%20%20%20%20%20%20%20%20%20%20%20%20%7B%22bubblingMouseEvents%22%3A%20true%2C%20%22color%22%3A%20%22blue%22%2C%20%22dashArray%22%3A%20null%2C%20%22dashOffset%22%3A%20null%2C%20%22fill%22%3A%20true%2C%20%22fillColor%22%3A%20%22%233186cc%22%2C%20%22fillOpacity%22%3A%200.7%2C%20%22fillRule%22%3A%20%22evenodd%22%2C%20%22lineCap%22%3A%20%22round%22%2C%20%22lineJoin%22%3A%20%22round%22%2C%20%22opacity%22%3A%201.0%2C%20%22radius%22%3A%205%2C%20%22stroke%22%3A%20true%2C%20%22weight%22%3A%203%7D%0A%20%20%20%20%20%20%20%20%20%20%20%20%29.addTo%28map_0eb30db52a8746758da7662e389c387e%29%3B%0A%20%20%20%20%20%20%20%20%0A%20%20%20%20%0A%20%20%20%20%20%20%20%20var%20popup_77c812641ea34497894765151099cc7d%20%3D%20L.popup%28%7B%22maxWidth%22%3A%20%22100%25%22%7D%29%3B%0A%0A%20%20%20%20%20%20%20%20%0A%20%20%20%20%20%20%20%20%20%20%20%20var%20html_670ba6738d8445559b553fb386c9dfdf%20%3D%20%24%28%60%3Cdiv%20id%3D%22html_670ba6738d8445559b553fb386c9dfdf%22%20style%3D%22width%3A%20100.0%25%3B%20height%3A%20100.0%25%3B%22%3EPARIS-20E-ARRONDISSEMENT%2C%20PARIS%3C/div%3E%60%29%5B0%5D%3B%0A%20%20%20%20%20%20%20%20%20%20%20%20popup_77c812641ea34497894765151099cc7d.setContent%28html_670ba6738d8445559b553fb386c9dfdf%29%3B%0A%20%20%20%20%20%20%20%20%0A%0A%20%20%20%20%20%20%20%20circle_marker_e7fbbcfa3f454548ae9340d0e727b544.bindPopup%28popup_77c812641ea34497894765151099cc7d%29%0A%20%20%20%20%20%20%20%20%3B%0A%0A%20%20%20%20%20%20%20%20%0A%20%20%20%20%0A%20%20%20%20%0A%20%20%20%20%20%20%20%20%20%20%20%20var%20circle_marker_55f8cc4ff3454ed5a7eb9000d399ded9%20%3D%20L.circleMarker%28%0A%20%20%20%20%20%20%20%20%20%20%20%20%20%20%20%20%5B48.85608259819694%2C%202.312438687733857%5D%2C%0A%20%20%20%20%20%20%20%20%20%20%20%20%20%20%20%20%7B%22bubblingMouseEvents%22%3A%20true%2C%20%22color%22%3A%20%22blue%22%2C%20%22dashArray%22%3A%20null%2C%20%22dashOffset%22%3A%20null%2C%20%22fill%22%3A%20true%2C%20%22fillColor%22%3A%20%22%233186cc%22%2C%20%22fillOpacity%22%3A%200.7%2C%20%22fillRule%22%3A%20%22evenodd%22%2C%20%22lineCap%22%3A%20%22round%22%2C%20%22lineJoin%22%3A%20%22round%22%2C%20%22opacity%22%3A%201.0%2C%20%22radius%22%3A%205%2C%20%22stroke%22%3A%20true%2C%20%22weight%22%3A%203%7D%0A%20%20%20%20%20%20%20%20%20%20%20%20%29.addTo%28map_0eb30db52a8746758da7662e389c387e%29%3B%0A%20%20%20%20%20%20%20%20%0A%20%20%20%20%0A%20%20%20%20%20%20%20%20var%20popup_66731c0843e045f3ba3531c2a19085f4%20%3D%20L.popup%28%7B%22maxWidth%22%3A%20%22100%25%22%7D%29%3B%0A%0A%20%20%20%20%20%20%20%20%0A%20%20%20%20%20%20%20%20%20%20%20%20var%20html_4ed2fbff5d794babb8b279762f7552af%20%3D%20%24%28%60%3Cdiv%20id%3D%22html_4ed2fbff5d794babb8b279762f7552af%22%20style%3D%22width%3A%20100.0%25%3B%20height%3A%20100.0%25%3B%22%3EPARIS-7E-ARRONDISSEMENT%2C%20PARIS%3C/div%3E%60%29%5B0%5D%3B%0A%20%20%20%20%20%20%20%20%20%20%20%20popup_66731c0843e045f3ba3531c2a19085f4.setContent%28html_4ed2fbff5d794babb8b279762f7552af%29%3B%0A%20%20%20%20%20%20%20%20%0A%0A%20%20%20%20%20%20%20%20circle_marker_55f8cc4ff3454ed5a7eb9000d399ded9.bindPopup%28popup_66731c0843e045f3ba3531c2a19085f4%29%0A%20%20%20%20%20%20%20%20%3B%0A%0A%20%20%20%20%20%20%20%20%0A%20%20%20%20%0A%20%20%20%20%0A%20%20%20%20%20%20%20%20%20%20%20%20var%20circle_marker_7db09e997fcb4a3783bd6ebb1f3ce6bf%20%3D%20L.circleMarker%28%0A%20%20%20%20%20%20%20%20%20%20%20%20%20%20%20%20%5B48.892735074561706%2C%202.348711933867703%5D%2C%0A%20%20%20%20%20%20%20%20%20%20%20%20%20%20%20%20%7B%22bubblingMouseEvents%22%3A%20true%2C%20%22color%22%3A%20%22blue%22%2C%20%22dashArray%22%3A%20null%2C%20%22dashOffset%22%3A%20null%2C%20%22fill%22%3A%20true%2C%20%22fillColor%22%3A%20%22%233186cc%22%2C%20%22fillOpacity%22%3A%200.7%2C%20%22fillRule%22%3A%20%22evenodd%22%2C%20%22lineCap%22%3A%20%22round%22%2C%20%22lineJoin%22%3A%20%22round%22%2C%20%22opacity%22%3A%201.0%2C%20%22radius%22%3A%205%2C%20%22stroke%22%3A%20true%2C%20%22weight%22%3A%203%7D%0A%20%20%20%20%20%20%20%20%20%20%20%20%29.addTo%28map_0eb30db52a8746758da7662e389c387e%29%3B%0A%20%20%20%20%20%20%20%20%0A%20%20%20%20%0A%20%20%20%20%20%20%20%20var%20popup_d3412201a9ed4d568b99dd004b9b15f7%20%3D%20L.popup%28%7B%22maxWidth%22%3A%20%22100%25%22%7D%29%3B%0A%0A%20%20%20%20%20%20%20%20%0A%20%20%20%20%20%20%20%20%20%20%20%20var%20html_4663a89982f548c7b149de30c78113d5%20%3D%20%24%28%60%3Cdiv%20id%3D%22html_4663a89982f548c7b149de30c78113d5%22%20style%3D%22width%3A%20100.0%25%3B%20height%3A%20100.0%25%3B%22%3EPARIS-18E-ARRONDISSEMENT%2C%20PARIS%3C/div%3E%60%29%5B0%5D%3B%0A%20%20%20%20%20%20%20%20%20%20%20%20popup_d3412201a9ed4d568b99dd004b9b15f7.setContent%28html_4663a89982f548c7b149de30c78113d5%29%3B%0A%20%20%20%20%20%20%20%20%0A%0A%20%20%20%20%20%20%20%20circle_marker_7db09e997fcb4a3783bd6ebb1f3ce6bf.bindPopup%28popup_d3412201a9ed4d568b99dd004b9b15f7%29%0A%20%20%20%20%20%20%20%20%3B%0A%0A%20%20%20%20%20%20%20%20%0A%20%20%20%20%0A%20%20%20%20%0A%20%20%20%20%20%20%20%20%20%20%20%20var%20circle_marker_7dba96fb8828494cbd14f6031677b7c7%20%3D%20L.circleMarker%28%0A%20%20%20%20%20%20%20%20%20%20%20%20%20%20%20%20%5B48.88733716648682%2C%202.307485559493426%5D%2C%0A%20%20%20%20%20%20%20%20%20%20%20%20%20%20%20%20%7B%22bubblingMouseEvents%22%3A%20true%2C%20%22color%22%3A%20%22blue%22%2C%20%22dashArray%22%3A%20null%2C%20%22dashOffset%22%3A%20null%2C%20%22fill%22%3A%20true%2C%20%22fillColor%22%3A%20%22%233186cc%22%2C%20%22fillOpacity%22%3A%200.7%2C%20%22fillRule%22%3A%20%22evenodd%22%2C%20%22lineCap%22%3A%20%22round%22%2C%20%22lineJoin%22%3A%20%22round%22%2C%20%22opacity%22%3A%201.0%2C%20%22radius%22%3A%205%2C%20%22stroke%22%3A%20true%2C%20%22weight%22%3A%203%7D%0A%20%20%20%20%20%20%20%20%20%20%20%20%29.addTo%28map_0eb30db52a8746758da7662e389c387e%29%3B%0A%20%20%20%20%20%20%20%20%0A%20%20%20%20%0A%20%20%20%20%20%20%20%20var%20popup_814329c1f18f4fd7b608e721e701cc27%20%3D%20L.popup%28%7B%22maxWidth%22%3A%20%22100%25%22%7D%29%3B%0A%0A%20%20%20%20%20%20%20%20%0A%20%20%20%20%20%20%20%20%20%20%20%20var%20html_c95e140e1ccc49c88b216d9c7547ded4%20%3D%20%24%28%60%3Cdiv%20id%3D%22html_c95e140e1ccc49c88b216d9c7547ded4%22%20style%3D%22width%3A%20100.0%25%3B%20height%3A%20100.0%25%3B%22%3EPARIS-17E-ARRONDISSEMENT%2C%20PARIS%3C/div%3E%60%29%5B0%5D%3B%0A%20%20%20%20%20%20%20%20%20%20%20%20popup_814329c1f18f4fd7b608e721e701cc27.setContent%28html_c95e140e1ccc49c88b216d9c7547ded4%29%3B%0A%20%20%20%20%20%20%20%20%0A%0A%20%20%20%20%20%20%20%20circle_marker_7dba96fb8828494cbd14f6031677b7c7.bindPopup%28popup_814329c1f18f4fd7b608e721e701cc27%29%0A%20%20%20%20%20%20%20%20%3B%0A%0A%20%20%20%20%20%20%20%20%0A%20%20%20%20%0A%20%20%20%20%0A%20%20%20%20%20%20%20%20%20%20%20%20var%20circle_marker_61fde2b2a8ff477a91d7810547796e46%20%3D%20L.circleMarker%28%0A%20%20%20%20%20%20%20%20%20%20%20%20%20%20%20%20%5B48.84015541860987%2C%202.293559372435076%5D%2C%0A%20%20%20%20%20%20%20%20%20%20%20%20%20%20%20%20%7B%22bubblingMouseEvents%22%3A%20true%2C%20%22color%22%3A%20%22blue%22%2C%20%22dashArray%22%3A%20null%2C%20%22dashOffset%22%3A%20null%2C%20%22fill%22%3A%20true%2C%20%22fillColor%22%3A%20%22%233186cc%22%2C%20%22fillOpacity%22%3A%200.7%2C%20%22fillRule%22%3A%20%22evenodd%22%2C%20%22lineCap%22%3A%20%22round%22%2C%20%22lineJoin%22%3A%20%22round%22%2C%20%22opacity%22%3A%201.0%2C%20%22radius%22%3A%205%2C%20%22stroke%22%3A%20true%2C%20%22weight%22%3A%203%7D%0A%20%20%20%20%20%20%20%20%20%20%20%20%29.addTo%28map_0eb30db52a8746758da7662e389c387e%29%3B%0A%20%20%20%20%20%20%20%20%0A%20%20%20%20%0A%20%20%20%20%20%20%20%20var%20popup_0c89520da713455998a9e57f1e9163ac%20%3D%20L.popup%28%7B%22maxWidth%22%3A%20%22100%25%22%7D%29%3B%0A%0A%20%20%20%20%20%20%20%20%0A%20%20%20%20%20%20%20%20%20%20%20%20var%20html_15d4648ceb5348aba1648fbbd7e4543f%20%3D%20%24%28%60%3Cdiv%20id%3D%22html_15d4648ceb5348aba1648fbbd7e4543f%22%20style%3D%22width%3A%20100.0%25%3B%20height%3A%20100.0%25%3B%22%3EPARIS-15E-ARRONDISSEMENT%2C%20PARIS%3C/div%3E%60%29%5B0%5D%3B%0A%20%20%20%20%20%20%20%20%20%20%20%20popup_0c89520da713455998a9e57f1e9163ac.setContent%28html_15d4648ceb5348aba1648fbbd7e4543f%29%3B%0A%20%20%20%20%20%20%20%20%0A%0A%20%20%20%20%20%20%20%20circle_marker_61fde2b2a8ff477a91d7810547796e46.bindPopup%28popup_0c89520da713455998a9e57f1e9163ac%29%0A%20%20%20%20%20%20%20%20%3B%0A%0A%20%20%20%20%20%20%20%20%0A%20%20%20%20%0A%20%20%20%20%0A%20%20%20%20%20%20%20%20%20%20%20%20var%20circle_marker_b2d87ef581d74000b6d799e0e399b6f6%20%3D%20L.circleMarker%28%0A%20%20%20%20%20%20%20%20%20%20%20%20%20%20%20%20%5B48.8626304851685%2C%202.336293446550539%5D%2C%0A%20%20%20%20%20%20%20%20%20%20%20%20%20%20%20%20%7B%22bubblingMouseEvents%22%3A%20true%2C%20%22color%22%3A%20%22blue%22%2C%20%22dashArray%22%3A%20null%2C%20%22dashOffset%22%3A%20null%2C%20%22fill%22%3A%20true%2C%20%22fillColor%22%3A%20%22%233186cc%22%2C%20%22fillOpacity%22%3A%200.7%2C%20%22fillRule%22%3A%20%22evenodd%22%2C%20%22lineCap%22%3A%20%22round%22%2C%20%22lineJoin%22%3A%20%22round%22%2C%20%22opacity%22%3A%201.0%2C%20%22radius%22%3A%205%2C%20%22stroke%22%3A%20true%2C%20%22weight%22%3A%203%7D%0A%20%20%20%20%20%20%20%20%20%20%20%20%29.addTo%28map_0eb30db52a8746758da7662e389c387e%29%3B%0A%20%20%20%20%20%20%20%20%0A%20%20%20%20%0A%20%20%20%20%20%20%20%20var%20popup_1f2d13a2c64940d098b549d1137f702a%20%3D%20L.popup%28%7B%22maxWidth%22%3A%20%22100%25%22%7D%29%3B%0A%0A%20%20%20%20%20%20%20%20%0A%20%20%20%20%20%20%20%20%20%20%20%20var%20html_7068be05d573451395a3a9fa89065a37%20%3D%20%24%28%60%3Cdiv%20id%3D%22html_7068be05d573451395a3a9fa89065a37%22%20style%3D%22width%3A%20100.0%25%3B%20height%3A%20100.0%25%3B%22%3EPARIS-1ER-ARRONDISSEMENT%2C%20PARIS%3C/div%3E%60%29%5B0%5D%3B%0A%20%20%20%20%20%20%20%20%20%20%20%20popup_1f2d13a2c64940d098b549d1137f702a.setContent%28html_7068be05d573451395a3a9fa89065a37%29%3B%0A%20%20%20%20%20%20%20%20%0A%0A%20%20%20%20%20%20%20%20circle_marker_b2d87ef581d74000b6d799e0e399b6f6.bindPopup%28popup_1f2d13a2c64940d098b549d1137f702a%29%0A%20%20%20%20%20%20%20%20%3B%0A%0A%20%20%20%20%20%20%20%20%0A%20%20%20%20%0A%20%20%20%20%0A%20%20%20%20%20%20%20%20%20%20%20%20var%20circle_marker_c4a5aeecb35d4fafbe54f1a1f8f72cf2%20%3D%20L.circleMarker%28%0A%20%20%20%20%20%20%20%20%20%20%20%20%20%20%20%20%5B48.82899321160942%2C%202.327100883257538%5D%2C%0A%20%20%20%20%20%20%20%20%20%20%20%20%20%20%20%20%7B%22bubblingMouseEvents%22%3A%20true%2C%20%22color%22%3A%20%22blue%22%2C%20%22dashArray%22%3A%20null%2C%20%22dashOffset%22%3A%20null%2C%20%22fill%22%3A%20true%2C%20%22fillColor%22%3A%20%22%233186cc%22%2C%20%22fillOpacity%22%3A%200.7%2C%20%22fillRule%22%3A%20%22evenodd%22%2C%20%22lineCap%22%3A%20%22round%22%2C%20%22lineJoin%22%3A%20%22round%22%2C%20%22opacity%22%3A%201.0%2C%20%22radius%22%3A%205%2C%20%22stroke%22%3A%20true%2C%20%22weight%22%3A%203%7D%0A%20%20%20%20%20%20%20%20%20%20%20%20%29.addTo%28map_0eb30db52a8746758da7662e389c387e%29%3B%0A%20%20%20%20%20%20%20%20%0A%20%20%20%20%0A%20%20%20%20%20%20%20%20var%20popup_759a8b2747a04adb9d707eabff38f9f6%20%3D%20L.popup%28%7B%22maxWidth%22%3A%20%22100%25%22%7D%29%3B%0A%0A%20%20%20%20%20%20%20%20%0A%20%20%20%20%20%20%20%20%20%20%20%20var%20html_2b38f3992e074ef5aaab23ec62c4bc95%20%3D%20%24%28%60%3Cdiv%20id%3D%22html_2b38f3992e074ef5aaab23ec62c4bc95%22%20style%3D%22width%3A%20100.0%25%3B%20height%3A%20100.0%25%3B%22%3EPARIS-14E-ARRONDISSEMENT%2C%20PARIS%3C/div%3E%60%29%5B0%5D%3B%0A%20%20%20%20%20%20%20%20%20%20%20%20popup_759a8b2747a04adb9d707eabff38f9f6.setContent%28html_2b38f3992e074ef5aaab23ec62c4bc95%29%3B%0A%20%20%20%20%20%20%20%20%0A%0A%20%20%20%20%20%20%20%20circle_marker_c4a5aeecb35d4fafbe54f1a1f8f72cf2.bindPopup%28popup_759a8b2747a04adb9d707eabff38f9f6%29%0A%20%20%20%20%20%20%20%20%3B%0A%0A%20%20%20%20%20%20%20%20%0A%20%20%20%20%0A%3C/script%3E onload=\"this.contentDocument.open();this.contentDocument.write(    decodeURIComponent(this.getAttribute('data-html')));this.contentDocument.close();\" allowfullscreen webkitallowfullscreen mozallowfullscreen></iframe></div></div>"
     },
     "metadata": {},
     "execution_count": 207
    }
   ],
   "source": [
    "paris_map = folium.Map(location=[latitude, longitude], zoom_start=10)\n",
    "\n",
    "# add markers to map\n",
    "for lat, lng, borough, neighborhood in zip(paris_df['Latitude'], paris_df['Longitude'], paris_df['City'], paris_df['Neighborhood']):\n",
    "    label = '{}, {}'.format(neighborhood, borough)\n",
    "    label = folium.Popup(label, parse_html=True)\n",
    "    folium.CircleMarker(\n",
    "        [lat, lng],\n",
    "        radius=5,\n",
    "        popup=label,\n",
    "        color='blue',\n",
    "        fill=True,\n",
    "        fill_color='#3186cc',\n",
    "        fill_opacity=0.7).add_to(paris_map)\n",
    "    \n",
    "paris_map"
   ]
  },
  {
   "source": [
    "Here we set all variables we need for our Foursquare API"
   ],
   "cell_type": "markdown",
   "metadata": {}
  },
  {
   "cell_type": "code",
   "execution_count": 208,
   "metadata": {},
   "outputs": [],
   "source": [
    "### Define Foursquare Credentials and Version\n",
    "CLIENT_ID = 'ILCOGTVELSR3YCEBTNWE1S0P35GGN33ORE3GK0HUQORM1DCO'\n",
    "CLIENT_SECRET = 'TMHARFJZAWLFOUPHD0B3N1SXTURRWTVQH1WGDZERHKLYCYSR'\n",
    "VERSION = '20180605'\n",
    "\n",
    "# Limit of number of venues returned by Foursquare API\n",
    "LIMIT = 100 \n",
    "# Define radius of search for Foursquare API\n",
    "radius = 500"
   ]
  },
  {
   "source": [
    "## Getting results\n",
    "Here we will for every Neighboorhood count the number of restaurants"
   ],
   "cell_type": "markdown",
   "metadata": {}
  },
  {
   "cell_type": "code",
   "execution_count": 209,
   "metadata": {},
   "outputs": [],
   "source": [
    "food_category_id = '4d4b7105d754a06374d81259,4bf58dd8d48988d1ca941735,4bf58dd8d48988d1cc941735'\n",
    "count_restaurants = {\"Neighborhood\":[], \"count_restaurants\":[]}\n",
    "for lat, lng, Neighborhood in zip(paris_df['Latitude'], paris_df['Longitude'], paris_df[\"Neighborhood\"]):\n",
    "    url='https://api.foursquare.com/v2/venues/explore?client_id={}&client_secret={}&v={}&ll={},{}&radius={}&limit={}&categoryId={}'.format(\n",
    "        CLIENT_ID,CLIENT_SECRET,VERSION,\n",
    "        lat,lng,\n",
    "        radius, LIMIT, food_category_id)\n",
    "    results = requests.get(url).json()\n",
    "    venues = results[\"response\"][\"groups\"][0][\"items\"]\n",
    "    count_restaurants[\"Neighborhood\"].append(Neighborhood)\n",
    "    count_restaurants[\"count_restaurants\"].append(len(venues))\n",
    "\n"
   ]
  },
  {
   "source": [
    "Add the restaurants count to our Paris dataframe"
   ],
   "cell_type": "markdown",
   "metadata": {}
  },
  {
   "cell_type": "code",
   "execution_count": 210,
   "metadata": {},
   "outputs": [
    {
     "output_type": "execute_result",
     "data": {
      "text/plain": [
       "     Latitude  Longitude   City              Neighborhood postal_code  \\\n",
       "0   48.876896   2.337460  PARIS   PARIS-9E-ARRONDISSEMENT       75009   \n",
       "1   48.867903   2.344107  PARIS   PARIS-2E-ARRONDISSEMENT       75002   \n",
       "2   48.859415   2.378741  PARIS  PARIS-11E-ARRONDISSEMENT       75011   \n",
       "3   48.872527   2.312583  PARIS   PARIS-8E-ARRONDISSEMENT       75008   \n",
       "4   48.828718   2.362468  PARIS  PARIS-13E-ARRONDISSEMENT       75013   \n",
       "5   48.835156   2.419807  PARIS  PARIS-12E-ARRONDISSEMENT       75012   \n",
       "6   48.863054   2.359361  PARIS   PARIS-3E-ARRONDISSEMENT       75003   \n",
       "7   48.848968   2.332671  PARIS   PARIS-6E-ARRONDISSEMENT       75006   \n",
       "8   48.854228   2.357362  PARIS   PARIS-4E-ARRONDISSEMENT       75004   \n",
       "9   48.876029   2.361113  PARIS  PARIS-10E-ARRONDISSEMENT       75010   \n",
       "10  48.860399   2.262100  PARIS  PARIS-16E-ARRONDISSEMENT       75016   \n",
       "11  48.844509   2.349859  PARIS   PARIS-5E-ARRONDISSEMENT       75005   \n",
       "12  48.886869   2.384694  PARIS  PARIS-19E-ARRONDISSEMENT       75019   \n",
       "13  48.863187   2.400820  PARIS  PARIS-20E-ARRONDISSEMENT       75020   \n",
       "14  48.856083   2.312439  PARIS   PARIS-7E-ARRONDISSEMENT       75007   \n",
       "15  48.892735   2.348712  PARIS  PARIS-18E-ARRONDISSEMENT       75018   \n",
       "16  48.887337   2.307486  PARIS  PARIS-17E-ARRONDISSEMENT       75017   \n",
       "17  48.840155   2.293559  PARIS  PARIS-15E-ARRONDISSEMENT       75015   \n",
       "18  48.862630   2.336293  PARIS  PARIS-1ER-ARRONDISSEMENT       75001   \n",
       "19  48.828993   2.327101  PARIS  PARIS-14E-ARRONDISSEMENT       75014   \n",
       "\n",
       "    population  count_restaurants  \n",
       "0         60.3                100  \n",
       "1         22.4                100  \n",
       "2        152.7                 45  \n",
       "3         40.3                 41  \n",
       "4        182.0                 62  \n",
       "5        142.9                  5  \n",
       "6         35.7                 86  \n",
       "7         43.1                 33  \n",
       "8         28.2                100  \n",
       "9         95.9                100  \n",
       "10       169.4                  2  \n",
       "11        61.5                 79  \n",
       "12       184.8                 31  \n",
       "13       197.1                 48  \n",
       "14        57.4                 73  \n",
       "15       200.6                 51  \n",
       "16       168.5                 64  \n",
       "17       236.5                 61  \n",
       "18        17.6                 82  \n",
       "19       137.2                 24  "
      ],
      "text/html": "<div>\n<style scoped>\n    .dataframe tbody tr th:only-of-type {\n        vertical-align: middle;\n    }\n\n    .dataframe tbody tr th {\n        vertical-align: top;\n    }\n\n    .dataframe thead th {\n        text-align: right;\n    }\n</style>\n<table border=\"1\" class=\"dataframe\">\n  <thead>\n    <tr style=\"text-align: right;\">\n      <th></th>\n      <th>Latitude</th>\n      <th>Longitude</th>\n      <th>City</th>\n      <th>Neighborhood</th>\n      <th>postal_code</th>\n      <th>population</th>\n      <th>count_restaurants</th>\n    </tr>\n  </thead>\n  <tbody>\n    <tr>\n      <th>0</th>\n      <td>48.876896</td>\n      <td>2.337460</td>\n      <td>PARIS</td>\n      <td>PARIS-9E-ARRONDISSEMENT</td>\n      <td>75009</td>\n      <td>60.3</td>\n      <td>100</td>\n    </tr>\n    <tr>\n      <th>1</th>\n      <td>48.867903</td>\n      <td>2.344107</td>\n      <td>PARIS</td>\n      <td>PARIS-2E-ARRONDISSEMENT</td>\n      <td>75002</td>\n      <td>22.4</td>\n      <td>100</td>\n    </tr>\n    <tr>\n      <th>2</th>\n      <td>48.859415</td>\n      <td>2.378741</td>\n      <td>PARIS</td>\n      <td>PARIS-11E-ARRONDISSEMENT</td>\n      <td>75011</td>\n      <td>152.7</td>\n      <td>45</td>\n    </tr>\n    <tr>\n      <th>3</th>\n      <td>48.872527</td>\n      <td>2.312583</td>\n      <td>PARIS</td>\n      <td>PARIS-8E-ARRONDISSEMENT</td>\n      <td>75008</td>\n      <td>40.3</td>\n      <td>41</td>\n    </tr>\n    <tr>\n      <th>4</th>\n      <td>48.828718</td>\n      <td>2.362468</td>\n      <td>PARIS</td>\n      <td>PARIS-13E-ARRONDISSEMENT</td>\n      <td>75013</td>\n      <td>182.0</td>\n      <td>62</td>\n    </tr>\n    <tr>\n      <th>5</th>\n      <td>48.835156</td>\n      <td>2.419807</td>\n      <td>PARIS</td>\n      <td>PARIS-12E-ARRONDISSEMENT</td>\n      <td>75012</td>\n      <td>142.9</td>\n      <td>5</td>\n    </tr>\n    <tr>\n      <th>6</th>\n      <td>48.863054</td>\n      <td>2.359361</td>\n      <td>PARIS</td>\n      <td>PARIS-3E-ARRONDISSEMENT</td>\n      <td>75003</td>\n      <td>35.7</td>\n      <td>86</td>\n    </tr>\n    <tr>\n      <th>7</th>\n      <td>48.848968</td>\n      <td>2.332671</td>\n      <td>PARIS</td>\n      <td>PARIS-6E-ARRONDISSEMENT</td>\n      <td>75006</td>\n      <td>43.1</td>\n      <td>33</td>\n    </tr>\n    <tr>\n      <th>8</th>\n      <td>48.854228</td>\n      <td>2.357362</td>\n      <td>PARIS</td>\n      <td>PARIS-4E-ARRONDISSEMENT</td>\n      <td>75004</td>\n      <td>28.2</td>\n      <td>100</td>\n    </tr>\n    <tr>\n      <th>9</th>\n      <td>48.876029</td>\n      <td>2.361113</td>\n      <td>PARIS</td>\n      <td>PARIS-10E-ARRONDISSEMENT</td>\n      <td>75010</td>\n      <td>95.9</td>\n      <td>100</td>\n    </tr>\n    <tr>\n      <th>10</th>\n      <td>48.860399</td>\n      <td>2.262100</td>\n      <td>PARIS</td>\n      <td>PARIS-16E-ARRONDISSEMENT</td>\n      <td>75016</td>\n      <td>169.4</td>\n      <td>2</td>\n    </tr>\n    <tr>\n      <th>11</th>\n      <td>48.844509</td>\n      <td>2.349859</td>\n      <td>PARIS</td>\n      <td>PARIS-5E-ARRONDISSEMENT</td>\n      <td>75005</td>\n      <td>61.5</td>\n      <td>79</td>\n    </tr>\n    <tr>\n      <th>12</th>\n      <td>48.886869</td>\n      <td>2.384694</td>\n      <td>PARIS</td>\n      <td>PARIS-19E-ARRONDISSEMENT</td>\n      <td>75019</td>\n      <td>184.8</td>\n      <td>31</td>\n    </tr>\n    <tr>\n      <th>13</th>\n      <td>48.863187</td>\n      <td>2.400820</td>\n      <td>PARIS</td>\n      <td>PARIS-20E-ARRONDISSEMENT</td>\n      <td>75020</td>\n      <td>197.1</td>\n      <td>48</td>\n    </tr>\n    <tr>\n      <th>14</th>\n      <td>48.856083</td>\n      <td>2.312439</td>\n      <td>PARIS</td>\n      <td>PARIS-7E-ARRONDISSEMENT</td>\n      <td>75007</td>\n      <td>57.4</td>\n      <td>73</td>\n    </tr>\n    <tr>\n      <th>15</th>\n      <td>48.892735</td>\n      <td>2.348712</td>\n      <td>PARIS</td>\n      <td>PARIS-18E-ARRONDISSEMENT</td>\n      <td>75018</td>\n      <td>200.6</td>\n      <td>51</td>\n    </tr>\n    <tr>\n      <th>16</th>\n      <td>48.887337</td>\n      <td>2.307486</td>\n      <td>PARIS</td>\n      <td>PARIS-17E-ARRONDISSEMENT</td>\n      <td>75017</td>\n      <td>168.5</td>\n      <td>64</td>\n    </tr>\n    <tr>\n      <th>17</th>\n      <td>48.840155</td>\n      <td>2.293559</td>\n      <td>PARIS</td>\n      <td>PARIS-15E-ARRONDISSEMENT</td>\n      <td>75015</td>\n      <td>236.5</td>\n      <td>61</td>\n    </tr>\n    <tr>\n      <th>18</th>\n      <td>48.862630</td>\n      <td>2.336293</td>\n      <td>PARIS</td>\n      <td>PARIS-1ER-ARRONDISSEMENT</td>\n      <td>75001</td>\n      <td>17.6</td>\n      <td>82</td>\n    </tr>\n    <tr>\n      <th>19</th>\n      <td>48.828993</td>\n      <td>2.327101</td>\n      <td>PARIS</td>\n      <td>PARIS-14E-ARRONDISSEMENT</td>\n      <td>75014</td>\n      <td>137.2</td>\n      <td>24</td>\n    </tr>\n  </tbody>\n</table>\n</div>"
     },
     "metadata": {},
     "execution_count": 210
    }
   ],
   "source": [
    "restaurants_df = pd.DataFrame(counts, columns=[\"Neighborhood\", \"count\"])\n",
    "\n",
    "new_df = pd.merge(paris_df, restaurants_df)\n",
    "new_df.rename(columns={\"count\": \"count_restaurants\"}, inplace=True)\n",
    "new_df"
   ]
  },
  {
   "source": [
    "Here we will for every Neighboorhood count the number of stores"
   ],
   "cell_type": "markdown",
   "metadata": {}
  },
  {
   "cell_type": "code",
   "execution_count": 211,
   "metadata": {},
   "outputs": [],
   "source": [
    "food_category_id = '52f2ab2ebcbc57f1066b8b1c'\n",
    "counts_stores = {\"Neighborhood\":[], \"count_stores\":[]}\n",
    "for lat, lng, Neighborhood in zip(paris_df['Latitude'], paris_df['Longitude'], paris_df[\"Neighborhood\"]):\n",
    "    url='https://api.foursquare.com/v2/venues/explore?client_id={}&client_secret={}&v={}&ll={},{}&radius={}&limit={}&categoryId={}'.format(\n",
    "        CLIENT_ID,CLIENT_SECRET,VERSION,\n",
    "        lat,lng,\n",
    "        radius, LIMIT, food_category_id)\n",
    "    results = requests.get(url).json()\n",
    "    venues = results[\"response\"][\"groups\"][0][\"items\"]\n",
    "    counts_stores[\"Neighborhood\"].append(Neighborhood)\n",
    "    counts_stores[\"count_stores\"].append(len(venues))\n",
    "\n"
   ]
  },
  {
   "source": [
    "Now let's prepare our result dataframe by sorting result "
   ],
   "cell_type": "markdown",
   "metadata": {}
  },
  {
   "cell_type": "code",
   "execution_count": 214,
   "metadata": {},
   "outputs": [
    {
     "output_type": "execute_result",
     "data": {
      "text/plain": [
       "     Latitude  Longitude   City              Neighborhood postal_code  \\\n",
       "17  48.840155   2.293559  PARIS  PARIS-15E-ARRONDISSEMENT       75015   \n",
       "15  48.892735   2.348712  PARIS  PARIS-18E-ARRONDISSEMENT       75018   \n",
       "13  48.863187   2.400820  PARIS  PARIS-20E-ARRONDISSEMENT       75020   \n",
       "12  48.886869   2.384694  PARIS  PARIS-19E-ARRONDISSEMENT       75019   \n",
       "4   48.828718   2.362468  PARIS  PARIS-13E-ARRONDISSEMENT       75013   \n",
       "10  48.860399   2.262100  PARIS  PARIS-16E-ARRONDISSEMENT       75016   \n",
       "16  48.887337   2.307486  PARIS  PARIS-17E-ARRONDISSEMENT       75017   \n",
       "2   48.859415   2.378741  PARIS  PARIS-11E-ARRONDISSEMENT       75011   \n",
       "5   48.835156   2.419807  PARIS  PARIS-12E-ARRONDISSEMENT       75012   \n",
       "19  48.828993   2.327101  PARIS  PARIS-14E-ARRONDISSEMENT       75014   \n",
       "9   48.876029   2.361113  PARIS  PARIS-10E-ARRONDISSEMENT       75010   \n",
       "11  48.844509   2.349859  PARIS   PARIS-5E-ARRONDISSEMENT       75005   \n",
       "0   48.876896   2.337460  PARIS   PARIS-9E-ARRONDISSEMENT       75009   \n",
       "14  48.856083   2.312439  PARIS   PARIS-7E-ARRONDISSEMENT       75007   \n",
       "7   48.848968   2.332671  PARIS   PARIS-6E-ARRONDISSEMENT       75006   \n",
       "3   48.872527   2.312583  PARIS   PARIS-8E-ARRONDISSEMENT       75008   \n",
       "6   48.863054   2.359361  PARIS   PARIS-3E-ARRONDISSEMENT       75003   \n",
       "8   48.854228   2.357362  PARIS   PARIS-4E-ARRONDISSEMENT       75004   \n",
       "1   48.867903   2.344107  PARIS   PARIS-2E-ARRONDISSEMENT       75002   \n",
       "18  48.862630   2.336293  PARIS  PARIS-1ER-ARRONDISSEMENT       75001   \n",
       "\n",
       "    population  count_restaurants  count_stores  \n",
       "17       236.5                 61             3  \n",
       "15       200.6                 51             2  \n",
       "13       197.1                 48             4  \n",
       "12       184.8                 31             2  \n",
       "4        182.0                 62             1  \n",
       "10       169.4                  2             0  \n",
       "16       168.5                 64             1  \n",
       "2        152.7                 45             6  \n",
       "5        142.9                  5             0  \n",
       "19       137.2                 24             1  \n",
       "9         95.9                100             3  \n",
       "11        61.5                 79             4  \n",
       "0         60.3                100             3  \n",
       "14        57.4                 73             0  \n",
       "7         43.1                 33             0  \n",
       "3         40.3                 41             0  \n",
       "6         35.7                 86             2  \n",
       "8         28.2                100             3  \n",
       "1         22.4                100             3  \n",
       "18        17.6                 82             0  "
      ],
      "text/html": "<div>\n<style scoped>\n    .dataframe tbody tr th:only-of-type {\n        vertical-align: middle;\n    }\n\n    .dataframe tbody tr th {\n        vertical-align: top;\n    }\n\n    .dataframe thead th {\n        text-align: right;\n    }\n</style>\n<table border=\"1\" class=\"dataframe\">\n  <thead>\n    <tr style=\"text-align: right;\">\n      <th></th>\n      <th>Latitude</th>\n      <th>Longitude</th>\n      <th>City</th>\n      <th>Neighborhood</th>\n      <th>postal_code</th>\n      <th>population</th>\n      <th>count_restaurants</th>\n      <th>count_stores</th>\n    </tr>\n  </thead>\n  <tbody>\n    <tr>\n      <th>17</th>\n      <td>48.840155</td>\n      <td>2.293559</td>\n      <td>PARIS</td>\n      <td>PARIS-15E-ARRONDISSEMENT</td>\n      <td>75015</td>\n      <td>236.5</td>\n      <td>61</td>\n      <td>3</td>\n    </tr>\n    <tr>\n      <th>15</th>\n      <td>48.892735</td>\n      <td>2.348712</td>\n      <td>PARIS</td>\n      <td>PARIS-18E-ARRONDISSEMENT</td>\n      <td>75018</td>\n      <td>200.6</td>\n      <td>51</td>\n      <td>2</td>\n    </tr>\n    <tr>\n      <th>13</th>\n      <td>48.863187</td>\n      <td>2.400820</td>\n      <td>PARIS</td>\n      <td>PARIS-20E-ARRONDISSEMENT</td>\n      <td>75020</td>\n      <td>197.1</td>\n      <td>48</td>\n      <td>4</td>\n    </tr>\n    <tr>\n      <th>12</th>\n      <td>48.886869</td>\n      <td>2.384694</td>\n      <td>PARIS</td>\n      <td>PARIS-19E-ARRONDISSEMENT</td>\n      <td>75019</td>\n      <td>184.8</td>\n      <td>31</td>\n      <td>2</td>\n    </tr>\n    <tr>\n      <th>4</th>\n      <td>48.828718</td>\n      <td>2.362468</td>\n      <td>PARIS</td>\n      <td>PARIS-13E-ARRONDISSEMENT</td>\n      <td>75013</td>\n      <td>182.0</td>\n      <td>62</td>\n      <td>1</td>\n    </tr>\n    <tr>\n      <th>10</th>\n      <td>48.860399</td>\n      <td>2.262100</td>\n      <td>PARIS</td>\n      <td>PARIS-16E-ARRONDISSEMENT</td>\n      <td>75016</td>\n      <td>169.4</td>\n      <td>2</td>\n      <td>0</td>\n    </tr>\n    <tr>\n      <th>16</th>\n      <td>48.887337</td>\n      <td>2.307486</td>\n      <td>PARIS</td>\n      <td>PARIS-17E-ARRONDISSEMENT</td>\n      <td>75017</td>\n      <td>168.5</td>\n      <td>64</td>\n      <td>1</td>\n    </tr>\n    <tr>\n      <th>2</th>\n      <td>48.859415</td>\n      <td>2.378741</td>\n      <td>PARIS</td>\n      <td>PARIS-11E-ARRONDISSEMENT</td>\n      <td>75011</td>\n      <td>152.7</td>\n      <td>45</td>\n      <td>6</td>\n    </tr>\n    <tr>\n      <th>5</th>\n      <td>48.835156</td>\n      <td>2.419807</td>\n      <td>PARIS</td>\n      <td>PARIS-12E-ARRONDISSEMENT</td>\n      <td>75012</td>\n      <td>142.9</td>\n      <td>5</td>\n      <td>0</td>\n    </tr>\n    <tr>\n      <th>19</th>\n      <td>48.828993</td>\n      <td>2.327101</td>\n      <td>PARIS</td>\n      <td>PARIS-14E-ARRONDISSEMENT</td>\n      <td>75014</td>\n      <td>137.2</td>\n      <td>24</td>\n      <td>1</td>\n    </tr>\n    <tr>\n      <th>9</th>\n      <td>48.876029</td>\n      <td>2.361113</td>\n      <td>PARIS</td>\n      <td>PARIS-10E-ARRONDISSEMENT</td>\n      <td>75010</td>\n      <td>95.9</td>\n      <td>100</td>\n      <td>3</td>\n    </tr>\n    <tr>\n      <th>11</th>\n      <td>48.844509</td>\n      <td>2.349859</td>\n      <td>PARIS</td>\n      <td>PARIS-5E-ARRONDISSEMENT</td>\n      <td>75005</td>\n      <td>61.5</td>\n      <td>79</td>\n      <td>4</td>\n    </tr>\n    <tr>\n      <th>0</th>\n      <td>48.876896</td>\n      <td>2.337460</td>\n      <td>PARIS</td>\n      <td>PARIS-9E-ARRONDISSEMENT</td>\n      <td>75009</td>\n      <td>60.3</td>\n      <td>100</td>\n      <td>3</td>\n    </tr>\n    <tr>\n      <th>14</th>\n      <td>48.856083</td>\n      <td>2.312439</td>\n      <td>PARIS</td>\n      <td>PARIS-7E-ARRONDISSEMENT</td>\n      <td>75007</td>\n      <td>57.4</td>\n      <td>73</td>\n      <td>0</td>\n    </tr>\n    <tr>\n      <th>7</th>\n      <td>48.848968</td>\n      <td>2.332671</td>\n      <td>PARIS</td>\n      <td>PARIS-6E-ARRONDISSEMENT</td>\n      <td>75006</td>\n      <td>43.1</td>\n      <td>33</td>\n      <td>0</td>\n    </tr>\n    <tr>\n      <th>3</th>\n      <td>48.872527</td>\n      <td>2.312583</td>\n      <td>PARIS</td>\n      <td>PARIS-8E-ARRONDISSEMENT</td>\n      <td>75008</td>\n      <td>40.3</td>\n      <td>41</td>\n      <td>0</td>\n    </tr>\n    <tr>\n      <th>6</th>\n      <td>48.863054</td>\n      <td>2.359361</td>\n      <td>PARIS</td>\n      <td>PARIS-3E-ARRONDISSEMENT</td>\n      <td>75003</td>\n      <td>35.7</td>\n      <td>86</td>\n      <td>2</td>\n    </tr>\n    <tr>\n      <th>8</th>\n      <td>48.854228</td>\n      <td>2.357362</td>\n      <td>PARIS</td>\n      <td>PARIS-4E-ARRONDISSEMENT</td>\n      <td>75004</td>\n      <td>28.2</td>\n      <td>100</td>\n      <td>3</td>\n    </tr>\n    <tr>\n      <th>1</th>\n      <td>48.867903</td>\n      <td>2.344107</td>\n      <td>PARIS</td>\n      <td>PARIS-2E-ARRONDISSEMENT</td>\n      <td>75002</td>\n      <td>22.4</td>\n      <td>100</td>\n      <td>3</td>\n    </tr>\n    <tr>\n      <th>18</th>\n      <td>48.862630</td>\n      <td>2.336293</td>\n      <td>PARIS</td>\n      <td>PARIS-1ER-ARRONDISSEMENT</td>\n      <td>75001</td>\n      <td>17.6</td>\n      <td>82</td>\n      <td>0</td>\n    </tr>\n  </tbody>\n</table>\n</div>"
     },
     "metadata": {},
     "execution_count": 214
    }
   ],
   "source": [
    "stores_df = pd.DataFrame(counts_stores, columns=[\"Neighborhood\", \"count_stores\"])\n",
    "\n",
    "new_df2 = pd.merge(new_df, stores_df)\n",
    "new_df2\n",
    "final_df = new_df2.sort_values([\"population\", \"count_restaurants\", \"count_stores\"], ascending=[False, True, True])\n",
    "final_df"
   ]
  },
  {
   "cell_type": "code",
   "execution_count": null,
   "metadata": {},
   "outputs": [],
   "source": []
  }
 ],
 "metadata": {
  "kernelspec": {
   "display_name": "Python 3",
   "language": "python",
   "name": "python3"
  },
  "language_info": {
   "codemirror_mode": {
    "name": "ipython",
    "version": 2
   },
   "file_extension": ".py",
   "mimetype": "text/x-python",
   "name": "python",
   "nbconvert_exporter": "python",
   "pygments_lexer": "ipython2",
   "version": "3.8.3"
  }
 },
 "nbformat": 4,
 "nbformat_minor": 0
}